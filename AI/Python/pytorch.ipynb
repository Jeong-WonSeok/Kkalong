{
 "cells": [
  {
   "cell_type": "code",
   "execution_count": 23,
   "outputs": [],
   "source": [
    "top_white = [\"화이트\", \"아이보리\", \"샌드\", \"베이지\", \"페일 핑크\"]\n",
    "top_red = [\"딥레드\", \"빨간색\", \"자주\", \"버건디\", \"갈색\", \"로즈 골드\"]\n",
    "top_pink = [\"라즈베리\", \"네온 핑크\", \"분홍색\", \"라이트 핑크\", \"피치\", \"오렌지 핑크\"]\n",
    "top_orange = ['라이트 오렌지', '네온 오렌지', '주황색', '레드 브라운']\n",
    "top_yellow = ['라이트 옐로우', '노란색', '머스타드', '카멜']\n",
    "top_green = ['네온 그린', '라이트 그린', '녹색', '올리브 그린', '카키', '다크 그린', '카키 베이지']\n",
    "top_blue = ['민트', '스카이 블루', '네온 블루', '라벤더', '연청']\n",
    "top_navy = ['네이비', '보라색', '데님', '파란색', '중청', '진청']\n",
    "top_gray = ['라이트 그레이', '회색', '다크 그레이']\n",
    "top_black = ['블랙', '흑청']\n",
    "\n",
    "bottom_blue = ['민트', '스카이 블루', '네온 블루', '라벤더', '연청']\n",
    "bottom_navy = ['네이비', '보라색', '데님', '파란색', '중청', '진청']\n",
    "bottom_white = [\"화이트\", \"아이보리\", \"샌드\", \"베이지\", \"페일 핑크\", '라이트 그레이', '회색']\n",
    "bottom_khaki = ['네온 그린', '라이트 그린', '녹색', '올리브 그린', '카키', '다크 그린', '카키 베이지',\n",
    "                '라이트 옐로우', '노란색', '머스타드', '카멜', '라이트 오렌지', '네온 오렌지', '주황색', '레드 브라운']\n",
    "bottom_wine = [\"딥레드\", \"빨간색\", \"자주\", \"버건디\", \"갈색\", \"로즈 골드\", \"라즈베리\", \"네온 핑크\", \"분홍색\", \"라이트 핑크\", \"피치\", \"오렌지 핑크\"]\n",
    "bottom_black = ['블랙', '흑청', '다크 그레이']\n",
    "\n",
    "color_top = [\"white\", \"red\", \"pink\", \"orange\", \"yellow\", \"greene\", \"blue\", \"navy\", \"black\", \"gray\"]\n",
    "color_bottom = [\"white\", \"blue\", \"wine\", \"black\", \"khaki\", \"navy\"]\n",
    "\n",
    "top_bottom = [\n",
    "                [top_white, bottom_blue], [top_white, bottom_navy], [top_white, bottom_white],\n",
    "                [top_white, bottom_khaki], [top_white, bottom_wine], [top_white, bottom_white],\n",
    "                [top_red, bottom_wine], [top_pink, bottom_blue], [top_pink, bottom_navy],\n",
    "                [top_pink, bottom_white], [top_pink, bottom_black], [top_orange, bottom_navy],\n",
    "                [top_yellow, bottom_blue], [top_yellow, bottom_navy], [top_yellow, bottom_white],\n",
    "                [top_yellow, bottom_wine], [top_green, bottom_navy], [top_green, bottom_black],\n",
    "                [top_blue, bottom_white], [top_blue, bottom_wine], [top_blue, bottom_black],\n",
    "                [top_navy, bottom_blue], [top_navy, bottom_navy], [top_navy, bottom_white],\n",
    "                [top_navy, bottom_wine], [top_black, bottom_navy], [top_black, bottom_white],\n",
    "                [top_black, bottom_black], [top_gray, bottom_black], [top_gray, bottom_navy]\n",
    "            ]"
   ],
   "metadata": {
    "collapsed": false
   }
  },
  {
   "cell_type": "code",
   "execution_count": 31,
   "outputs": [
    {
     "name": "stdout",
     "output_type": "stream",
     "text": [
      "[['민트', '스카이 블루', '네온 블루', '라벤더', '연청'], ['네이비', '보라색', '데님', '파란색', '중청', '진청'], ['화이트', '아이보리', '샌드', '베이지', '페일 핑크', '라이트 그레이', '회색'], ['네온 그린', '라이트 그린', '녹색', '올리브 그린', '카키', '다크 그린', '카키 베이지', '라이트 옐로우', '노란색', '머스타드', '카멜', '라이트 오렌지', '네온 오렌지', '주황색', '레드 브라운'], ['딥레드', '빨간색', '자주', '버건디', '갈색', '로즈 골드', '라즈베리', '네온 핑크', '분홍색', '라이트 핑크', '피치', '오렌지 핑크'], ['화이트', '아이보리', '샌드', '베이지', '페일 핑크', '라이트 그레이', '회색']]\n"
     ]
    }
   ],
   "source": [
    "a = []\n",
    "for i in top_bottom:\n",
    "    if i.__contains__(top_white):\n",
    "        a.append(i[1])\n",
    "print(a)"
   ],
   "metadata": {
    "collapsed": false
   }
  },
  {
   "cell_type": "code",
   "execution_count": 29,
   "outputs": [
    {
     "name": "stdout",
     "output_type": "stream",
     "text": [
      "1\n"
     ]
    }
   ],
   "source": [
    "cody_sub = {1: 1, 2: 0, 3: 0, 4: 0, 5: 0, 6: 0, 7: 0, 8: 0}\n",
    "print(cody_sub[1])"
   ],
   "metadata": {
    "collapsed": false
   }
  }
 ],
 "metadata": {
  "kernelspec": {
   "display_name": "Python 3",
   "language": "python",
   "name": "python3"
  },
  "language_info": {
   "codemirror_mode": {
    "name": "ipython",
    "version": 2
   },
   "file_extension": ".py",
   "mimetype": "text/x-python",
   "name": "python",
   "nbconvert_exporter": "python",
   "pygments_lexer": "ipython2",
   "version": "2.7.6"
  }
 },
 "nbformat": 4,
 "nbformat_minor": 0
}
