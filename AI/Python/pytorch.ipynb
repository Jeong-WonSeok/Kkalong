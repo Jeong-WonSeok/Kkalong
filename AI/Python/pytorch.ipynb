{
 "cells": [
  {
   "cell_type": "code",
   "execution_count": 1,
   "outputs": [],
   "source": [
    "import pymysql\n",
    "import colorExtract"
   ],
   "metadata": {
    "collapsed": false
   }
  },
  {
   "cell_type": "code",
   "execution_count": 19,
   "outputs": [],
   "source": [
    "def insertColor(color, id):\n",
    "    conn = pymysql.connect(host='127.0.0.1', user='ssafy', password='ssafy', db='kkalong', charset='utf8')\n",
    "    cur = conn.cursor()\n",
    "    sql = \"update clothing set color = %s where clothing_id = %s\"\n",
    "    cur.execute(sql, (color, id));\n",
    "    conn.commit()\n",
    "    conn.close()"
   ],
   "metadata": {
    "collapsed": false
   }
  },
  {
   "cell_type": "code",
   "execution_count": 18,
   "outputs": [
    {
     "name": "stdout",
     "output_type": "stream",
     "text": [
      "1\n",
      "(218, 211, 200)\n",
      "라이트그레이\n",
      "2\n",
      "(72, 66, 60)\n",
      "카키\n",
      "3\n",
      "(169, 152, 113)\n",
      "회색\n",
      "4\n",
      "(112, 79, 55)\n",
      "카키\n",
      "5\n",
      "(142, 125, 87)\n",
      "올리브 그린\n",
      "6\n",
      "(224, 224, 224)\n",
      "라이트그레이\n",
      "7\n",
      "(89, 89, 78)\n",
      "다크 그레이\n",
      "8\n",
      "(227, 222, 214)\n",
      "라이트그레이\n",
      "9\n",
      "(131, 143, 156)\n",
      "회색\n",
      "10\n",
      "(64, 62, 69)\n",
      "중청\n",
      "11\n",
      "(82, 49, 26)\n",
      "갈색\n",
      "12\n",
      "(200, 189, 190)\n",
      "라이트그레이\n",
      "13\n",
      "(44, 42, 38)\n",
      "흑청\n",
      "14\n",
      "(160, 174, 201)\n",
      "회색\n",
      "15\n",
      "(218, 219, 208)\n",
      "라이트그레이\n",
      "16\n",
      "(231, 231, 231)\n",
      "라이트그레이\n",
      "17\n",
      "(80, 84, 59)\n",
      "카키\n",
      "18\n",
      "(164, 124, 84)\n",
      "올리브 그린\n",
      "19\n",
      "(168, 87, 69)\n",
      "로즈골드\n",
      "20\n",
      "(148, 111, 81)\n",
      "올리브 그린\n",
      "21\n",
      "(64, 67, 51)\n",
      "카키\n",
      "22\n",
      "(53, 53, 61)\n",
      "진청\n",
      "23\n",
      "(130, 135, 150)\n",
      "회색\n",
      "24\n",
      "(127, 95, 67)\n",
      "카키\n",
      "25\n",
      "(231, 221, 205)\n",
      "라이트그레이\n",
      "26\n",
      "(203, 197, 184)\n",
      "샌드\n",
      "27\n",
      "(142, 107, 73)\n",
      "올리브 그린\n",
      "28\n",
      "(24, 29, 48)\n",
      "진청\n",
      "29\n",
      "(200, 200, 209)\n",
      "라이트그레이\n",
      "30\n",
      "(25, 24, 23)\n",
      "흑청\n",
      "31\n",
      "(40, 41, 51)\n",
      "진청\n",
      "32\n",
      "(32, 37, 48)\n",
      "진청\n",
      "33\n",
      "(106, 120, 90)\n",
      "올리브 그린\n",
      "34\n",
      "(225, 225, 219)\n",
      "라이트그레이\n",
      "35\n",
      "(195, 187, 184)\n",
      "샌드\n",
      "36\n",
      "(99, 106, 114)\n",
      "다크 그레이\n",
      "37\n",
      "(80, 80, 77)\n",
      "다크 그레이\n",
      "38\n",
      "(106, 73, 43)\n",
      "카키\n",
      "39\n",
      "(55, 61, 47)\n",
      "진청\n",
      "40\n",
      "(69, 65, 65)\n",
      "카키\n",
      "41\n",
      "(52, 48, 28)\n",
      "흑청\n",
      "42\n",
      "(104, 93, 88)\n",
      "다크 그레이\n",
      "43\n",
      "(25, 23, 30)\n",
      "흑청\n",
      "44\n",
      "(35, 35, 35)\n",
      "흑청\n",
      "45\n",
      "(38, 37, 37)\n",
      "흑청\n",
      "46\n",
      "(58, 58, 58)\n",
      "진청\n",
      "47\n",
      "(23, 26, 34)\n",
      "흑청\n",
      "48\n",
      "(72, 74, 54)\n",
      "카키\n",
      "49\n",
      "(50, 64, 81)\n",
      "중청\n",
      "50\n",
      "(185, 200, 217)\n",
      "라이트그레이\n",
      "51\n",
      "(87, 91, 90)\n",
      "다크 그레이\n",
      "52\n",
      "(49, 59, 80)\n",
      "중청\n",
      "53\n",
      "(130, 118, 102)\n",
      "올리브 그린\n",
      "54\n",
      "(222, 221, 211)\n",
      "라이트그레이\n",
      "55\n",
      "(187, 186, 179)\n",
      "샌드\n"
     ]
    }
   ],
   "source": [
    "conn = pymysql.connect(host='127.0.0.1', user='ssafy', password='ssafy', db='kkalong', charset='utf8')\n",
    "cur = conn.cursor()\n",
    "cur.execute(\"select * from clothing\");\n",
    "\n",
    "bottom_blue = ['민트', '스카이 블루', '네온 블루', '라벤더', '연청']\n",
    "bottom_navy = ['네이비', '보라색', '데님', '파란색', '중청', '진청']\n",
    "bottom_white = [\"화이트\", \"아이보리\", \"샌드\", \"베이지\", \"페일 핑크\", '라이트 그레이', '회색']\n",
    "bottom_khaki = ['네온 그린', '라이트 그린', '녹색', '올리브 그린', '카키', '다크 그린', '카키 베이지',\n",
    "                '라이트 옐로우', '노란색', '머스타드', '카멜', '라이트 오렌지', '네온 오렌지', '주황색', '레드 브라운']\n",
    "bottom_wine = [\"딥레드\", \"빨간색\", \"자주\", \"버건디\", \"갈색\", \"로즈 골드\", \"라즈베리\", \"네온 핑크\", \"분홍색\", \"라이트 핑크\", \"피치\", \"오렌지 핑크\"]\n",
    "bottom_black = ['블랙', '흑청', '다크 그레이']\n",
    "\n",
    "color_top = [\"white\", \"red\", \"pink\", \"orange\", \"yellow\", \"greene\", \"blue\", \"navy\", \"black\", \"gray\"]\n",
    "color_bottom = [\"white\", \"blue\", \"wine\", \"black\", \"khaki\", \"navy\"]\n",
    "\n",
    "top_bottom = [\n",
    "                [top_white, bottom_blue], [top_white, bottom_navy], [top_white, bottom_white],\n",
    "                [top_white, bottom_khaki], [top_white, bottom_wine], [top_white, bottom_white],\n",
    "                [top_red, bottom_wine], [top_pink, bottom_blue], [top_pink, bottom_navy],\n",
    "                [top_pink, bottom_white], [top_pink, bottom_black], [top_orange, bottom_navy],\n",
    "                [top_yellow, bottom_blue], [top_yellow, bottom_navy], [top_yellow, bottom_white],\n",
    "                [top_yellow, bottom_wine], [top_green, bottom_navy], [top_green, bottom_black],\n",
    "                [top_blue, bottom_white], [top_blue, bottom_wine], [top_blue, bottom_black],\n",
    "                [top_navy, bottom_blue], [top_navy, bottom_navy], [top_navy, bottom_white],\n",
    "                [top_navy, bottom_wine], [top_black, bottom_navy], [top_black, bottom_white],\n",
    "                [top_black, bottom_black], [top_gray, bottom_black], [top_gray, bottom_navy]\n",
    "            ]"
   ],
   "metadata": {
    "collapsed": false
   }
  },
  {
   "cell_type": "code",
   "execution_count": 31,
   "outputs": [
    {
     "name": "stdout",
     "output_type": "stream",
     "text": [
      "[['민트', '스카이 블루', '네온 블루', '라벤더', '연청'], ['네이비', '보라색', '데님', '파란색', '중청', '진청'], ['화이트', '아이보리', '샌드', '베이지', '페일 핑크', '라이트 그레이', '회색'], ['네온 그린', '라이트 그린', '녹색', '올리브 그린', '카키', '다크 그린', '카키 베이지', '라이트 옐로우', '노란색', '머스타드', '카멜', '라이트 오렌지', '네온 오렌지', '주황색', '레드 브라운'], ['딥레드', '빨간색', '자주', '버건디', '갈색', '로즈 골드', '라즈베리', '네온 핑크', '분홍색', '라이트 핑크', '피치', '오렌지 핑크'], ['화이트', '아이보리', '샌드', '베이지', '페일 핑크', '라이트 그레이', '회색']]\n"
     ]
    }
   ],
   "source": [
    "a = []\n",
    "for i in top_bottom:\n",
    "    if i.__contains__(top_white):\n",
    "        a.append(i[1])\n",
    "print(a)"
   ],
   "metadata": {
    "collapsed": false
   }
  },
  {
   "cell_type": "code",
   "execution_count": 29,
   "outputs": [
    {
     "name": "stdout",
     "output_type": "stream",
     "text": [
      "1\n"
     ]
    }
   ],
   "source": [
    "cody_sub = {1: 1, 2: 0, 3: 0, 4: 0, 5: 0, 6: 0, 7: 0, 8: 0}\n",
    "print(cody_sub[1])"
   ],
   "metadata": {
    "collapsed": false
   }
  }
 ],
 "metadata": {
  "kernelspec": {
   "display_name": "Python 3",
   "language": "python",
   "name": "python3"
  },
  "language_info": {
   "codemirror_mode": {
    "name": "ipython",
    "version": 2
   },
   "file_extension": ".py",
   "mimetype": "text/x-python",
   "name": "python",
   "nbconvert_exporter": "python",
   "pygments_lexer": "ipython2",
   "version": "2.7.6"
  }
 },
 "nbformat": 4,
 "nbformat_minor": 0
}
