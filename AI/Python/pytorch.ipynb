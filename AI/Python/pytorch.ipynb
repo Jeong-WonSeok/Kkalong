{
 "cells": [
  {
   "cell_type": "code",
   "execution_count": 2,
   "metadata": {
    "collapsed": true
   },
   "outputs": [
    {
     "name": "stdout",
     "output_type": "stream",
     "text": [
      "C:\\Users\\multicampus\\Desktop\\자율PJT\\S07P31B302\\AI\\Python\\Self-Correction-Human-Parsing\n"
     ]
    }
   ],
   "source": [
    "%cd Self-Correction-Human-Parsing"
   ]
  },
  {
   "cell_type": "code",
   "execution_count": null,
   "outputs": [],
   "source": [
    "!pip install opencv-python"
   ],
   "metadata": {
    "collapsed": false,
    "pycharm": {
     "is_executing": true
    }
   }
  },
  {
   "cell_type": "code",
   "execution_count": 3,
   "outputs": [],
   "source": [
    "dataset = 'lip'"
   ],
   "metadata": {
    "collapsed": false
   }
  },
  {
   "cell_type": "code",
   "execution_count": 6,
   "outputs": [],
   "source": [
    "import gdown"
   ],
   "metadata": {
    "collapsed": false
   }
  },
  {
   "cell_type": "code",
   "execution_count": 7,
   "outputs": [
    {
     "name": "stderr",
     "output_type": "stream",
     "text": [
      "Downloading...\n",
      "From: https://drive.google.com/uc?id=1k4dllHpu0bdx38J7H28rVVLpU-kOHmnH\n",
      "To: C:\\Users\\multicampus\\Desktop\\자율PJT\\S07P31B302\\AI\\Python\\Self-Correction-Human-Parsing\\checkpoints\\final.pth\n",
      "100%|██████████| 267M/267M [00:44<00:00, 5.99MB/s] \n"
     ]
    },
    {
     "data": {
      "text/plain": "'checkpoints/final.pth'"
     },
     "execution_count": 7,
     "metadata": {},
     "output_type": "execute_result"
    }
   ],
   "source": [
    "if dataset == 'lip':\n",
    "    url = 'https://drive.google.com/uc?id=1k4dllHpu0bdx38J7H28rVVLpU-kOHmnH'\n",
    "elif dataset == 'atr':\n",
    "    url = 'https://drive.google.com/uc?id=1ruJg4lqR_jgQPj-9K0PP-L2vJERYOxLP'\n",
    "elif dataset == 'pascal':\n",
    "    url = 'https://drive.google.com/uc?id=1E5YwNKW2VOEayK9mWCS3Kpsxf-3z04ZE'\n",
    "\n",
    "output = 'checkpoints/final.pth'\n",
    "gdown.download(url, output, quiet=False)"
   ],
   "metadata": {
    "collapsed": false
   }
  },
  {
   "cell_type": "code",
   "execution_count": 15,
   "outputs": [
    {
     "name": "stderr",
     "output_type": "stream",
     "text": [
      "C:\\ProgramData\\Anaconda3\\envs\\Python\\lib\\site-packages\\torch\\utils\\cpp_extension.py:287: UserWarning: Error checking compiler version for cl: [WinError 2] 지정된 파일을 찾을 수 없습니다\n",
      "  warnings.warn('Error checking compiler version for {}: {}'.format(compiler, error))\n",
      "Traceback (most recent call last):\n",
      "  File \"simple_extractor.py\", line 24, in <module>\n",
      "    import networks\n",
      "  File \"C:\\Users\\multicampus\\Desktop\\자율PJT\\S07P31B302\\AI\\Python\\Self-Correction-Human-Parsing\\networks\\__init__.py\", line 3, in <module>\n",
      "    from networks.AugmentCE2P import resnet101\n",
      "  File \"C:\\Users\\multicampus\\Desktop\\자율PJT\\S07P31B302\\AI\\Python\\Self-Correction-Human-Parsing\\networks\\AugmentCE2P.py\", line 21, in <module>\n",
      "    from modules import InPlaceABNSync\n",
      "  File \"C:\\Users\\multicampus\\Desktop\\자율PJT\\S07P31B302\\AI\\Python\\Self-Correction-Human-Parsing\\modules\\__init__.py\", line 1, in <module>\n",
      "    from .bn import ABN, InPlaceABN, InPlaceABNSync\n",
      "  File \"C:\\Users\\multicampus\\Desktop\\자율PJT\\S07P31B302\\AI\\Python\\Self-Correction-Human-Parsing\\modules\\bn.py\", line 10, in <module>\n",
      "    from .functions import *\n",
      "  File \"C:\\Users\\multicampus\\Desktop\\자율PJT\\S07P31B302\\AI\\Python\\Self-Correction-Human-Parsing\\modules\\functions.py\", line 10, in <module>\n",
      "    _backend = load(name=\"inplace_abn\",\n",
      "  File \"C:\\ProgramData\\Anaconda3\\envs\\Python\\lib\\site-packages\\torch\\utils\\cpp_extension.py\", line 986, in load\n",
      "    return _jit_compile(\n",
      "  File \"C:\\ProgramData\\Anaconda3\\envs\\Python\\lib\\site-packages\\torch\\utils\\cpp_extension.py\", line 1193, in _jit_compile\n",
      "    _write_ninja_file_and_build_library(\n",
      "  File \"C:\\ProgramData\\Anaconda3\\envs\\Python\\lib\\site-packages\\torch\\utils\\cpp_extension.py\", line 1276, in _write_ninja_file_and_build_library\n",
      "    extra_ldflags = _prepare_ldflags(\n",
      "  File \"C:\\ProgramData\\Anaconda3\\envs\\Python\\lib\\site-packages\\torch\\utils\\cpp_extension.py\", line 1364, in _prepare_ldflags\n",
      "    _join_cuda_home('lib/x64')))\n",
      "  File \"C:\\ProgramData\\Anaconda3\\envs\\Python\\lib\\site-packages\\torch\\utils\\cpp_extension.py\", line 1827, in _join_cuda_home\n",
      "    raise EnvironmentError('CUDA_HOME environment variable is not set. '\n",
      "OSError: CUDA_HOME environment variable is not set. Please set it to your CUDA install root.\n"
     ]
    }
   ],
   "source": [
    "!python simple_extractor.py --dataset 'lip' --model-restore 'checkpoints/final.pth' --input-dir 'inputs' --output-dir 'outputs'"
   ],
   "metadata": {
    "collapsed": false
   }
  }
 ],
 "metadata": {
  "kernelspec": {
   "display_name": "Python 3",
   "language": "python",
   "name": "python3"
  },
  "language_info": {
   "codemirror_mode": {
    "name": "ipython",
    "version": 2
   },
   "file_extension": ".py",
   "mimetype": "text/x-python",
   "name": "python",
   "nbconvert_exporter": "python",
   "pygments_lexer": "ipython2",
   "version": "2.7.6"
  }
 },
 "nbformat": 4,
 "nbformat_minor": 0
}
