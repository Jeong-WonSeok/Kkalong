{
 "cells": [
  {
   "cell_type": "code",
   "execution_count": 6,
   "outputs": [],
   "source": [
    "import pymysql\n",
    "import colorExtract"
   ],
   "metadata": {
    "collapsed": false
   }
  },
  {
   "cell_type": "code",
   "execution_count": null,
   "outputs": [],
   "source": [
    "def insertColor(color, id):\n",
    "    conn = pymysql.connect(host='127.0.0.1', user='ssafy', password='ssafy', db='kkalong', charset='utf8')\n",
    "    cur = conn.cursor()\n",
    "    sql = \"update clothing set color = %s where clothing_id = %s\"\n",
    "    cur.execute(sql, (color, id));\n",
    "    conn.commit()\n",
    "    conn.close()"
   ],
   "metadata": {
    "collapsed": false
   }
  },
  {
   "cell_type": "code",
   "execution_count": null,
   "outputs": [],
   "source": [
    "conn = pymysql.connect(host='127.0.0.1', user='ssafy', password='ssafy', db='kkalong', charset='utf8')\n",
    "cur = conn.cursor()\n",
    "cur.execute(\"select * from clothing\");\n",
    "\n",
    "colorArr = []\n",
    "for row in cur:\n",
    "    img = row[5]\n",
    "    id = row[0]\n",
    "    print(row[0])\n",
    "    color = colorExtract.image_preprocess(img)\n",
    "    colorArr.append([color, id])\n",
    "    print(color)\n",
    "\n",
    "conn.commit()\n",
    "conn.close()"
   ],
   "metadata": {
    "collapsed": false
   }
  },
  {
   "cell_type": "code",
   "execution_count": 31,
   "outputs": [
    {
     "name": "stdout",
     "output_type": "stream",
     "text": [
      "[['민트', '스카이 블루', '네온 블루', '라벤더', '연청'], ['네이비', '보라색', '데님', '파란색', '중청', '진청'], ['화이트', '아이보리', '샌드', '베이지', '페일 핑크', '라이트 그레이', '회색'], ['네온 그린', '라이트 그린', '녹색', '올리브 그린', '카키', '다크 그린', '카키 베이지', '라이트 옐로우', '노란색', '머스타드', '카멜', '라이트 오렌지', '네온 오렌지', '주황색', '레드 브라운'], ['딥레드', '빨간색', '자주', '버건디', '갈색', '로즈 골드', '라즈베리', '네온 핑크', '분홍색', '라이트 핑크', '피치', '오렌지 핑크'], ['화이트', '아이보리', '샌드', '베이지', '페일 핑크', '라이트 그레이', '회색']]\n"
     ]
    }
   ],
   "source": [
    "for row in colorArr:\n",
    "    insertColor(row[0], row[1])"
   ],
   "metadata": {
    "collapsed": false
   }
  },
  {
   "cell_type": "code",
   "execution_count": 3,
   "outputs": [],
   "source": [
    "import pymysql\n",
    "import pandas as pd\n",
    "import sqlalchemy\n",
    "from sqlalchemy import create_engine"
   ],
   "metadata": {
    "collapsed": false
   }
  },
  {
   "cell_type": "code",
   "execution_count": 4,
   "outputs": [
    {
     "name": "stdout",
     "output_type": "stream",
     "text": [
      "5     101\n",
      "11    104\n",
      "13    104\n",
      "15    102\n",
      "21    104\n",
      "22    108\n",
      "27    106\n",
      "28    104\n",
      "34    102\n",
      "39    104\n",
      "42    107\n",
      "46    105\n",
      "49    104\n",
      "54    105\n",
      "Name: sub_category, dtype: int64\n"
     ]
    },
    {
     "name": "stderr",
     "output_type": "stream",
     "text": [
      "C:\\Users\\jws48\\AppData\\Local\\Temp\\ipykernel_28376\\57397361.py:3: UserWarning: pandas only supports SQLAlchemy connectable (engine/connection) or database string URI or sqlite3 DBAPI2 connection. Other DBAPI2 objects are not tested. Please consider using SQLAlchemy.\n",
      "  df = pd.read_sql_query(sql, conn)\n"
     ]
    }
   ],
   "source": [
    "conn = pymysql.connect(host='127.0.0.1', user='ssafy', password='ssafy', db='kkalong', charset='utf8')\n",
    "sql = \"select * from clothing\"\n",
    "df = pd.read_sql_query(sql, conn)\n",
    "# data = pd.read_sql_table('clothing', conn)\n",
    "print(df[df[df['style']=='casual']['main_category'] == 1]['sub_category'])"
   ],
   "metadata": {
    "collapsed": false
   }
  },
  {
   "cell_type": "code",
   "execution_count": 1,
   "outputs": [
    {
     "name": "stdout",
     "output_type": "stream",
     "text": [
      "{'top': 1, 'bottom': 2, 'outer': 0, 'shoes': 6, 'bag': 7, 'hat': 0}\n",
      "{'top': ['라이트 그레이', '회색', '다크 그레이'], 'bottom': ['네이비', '보라색', '데님', '파란색', '중청', '진청'], 'outer': ['블랙', '흑청'], 'shoes': ['네이비', '보라색', '데님', '파란색', '중청', '진청'], 'bag': [], 'hat': []}\n",
      "F\n",
      "casual\n",
      "fall\n",
      "29\n"
     ]
    },
    {
     "data": {
      "text/plain": "'a'"
     },
     "execution_count": 1,
     "metadata": {},
     "output_type": "execute_result"
    }
   ],
   "source": [
    "import recommendCodi\n",
    "recommendCodi.weatherRecommend('casual', 'F', 'fall', 29)"
   ],
   "metadata": {
    "collapsed": false
   }
  },
  {
   "cell_type": "code",
   "execution_count": 1,
   "outputs": [
    {
     "name": "stdout",
     "output_type": "stream",
     "text": [
      "[101, 102, 103, 104]\n"
     ]
    }
   ],
   "source": [
    "import recommendCodi\n",
    "print(recommendCodi.top_summer)"
   ],
   "metadata": {
    "collapsed": false
   }
  },
  {
   "cell_type": "code",
   "execution_count": 13,
   "outputs": [
    {
     "data": {
      "text/plain": "2"
     },
     "execution_count": 13,
     "metadata": {},
     "output_type": "execute_result"
    }
   ],
   "source": [
    "import random\n",
    "a = random.choices(range(1,3), weights=[0.3, 0.3])[0]\n",
    "a"
   ],
   "metadata": {
    "collapsed": false
   }
  },
  {
   "cell_type": "code",
   "execution_count": 1,
   "outputs": [
    {
     "name": "stdout",
     "output_type": "stream",
     "text": [
      "{'top': 1, 'bottom': 2, 'outer': 5, 'shoes': 6, 'bag': 0, 'hat': 0}\n",
      "{1: 108, 2: 203, 3: 0, 4: 0, 5: 512, 6: 609, 7: 0, 8: 0}\n",
      "{'top': 1, 'bottom': 2, 'outer': 5, 'shoes': 6, 'bag': 0, 'hat': 0}\n",
      "진청\n"
     ]
    },
    {
     "data": {
      "text/plain": "'b'"
     },
     "execution_count": 1,
     "metadata": {},
     "output_type": "execute_result"
    }
   ],
   "source": [
    "import recommendCodi\n",
    "recommendCodi.personalRecommend('casual', 'F', 'fall', 'summer')"
   ],
   "metadata": {
    "collapsed": false
   }
  },
  {
   "cell_type": "markdown",
   "source": [],
   "metadata": {
    "collapsed": false
   }
  }
 ],
 "metadata": {
  "kernelspec": {
   "display_name": "Python 3",
   "language": "python",
   "name": "python3"
  },
  "language_info": {
   "codemirror_mode": {
    "name": "ipython",
    "version": 2
   },
   "file_extension": ".py",
   "mimetype": "text/x-python",
   "name": "python",
   "nbconvert_exporter": "python",
   "pygments_lexer": "ipython2",
   "version": "2.7.6"
  }
 },
 "nbformat": 4,
 "nbformat_minor": 0
}
