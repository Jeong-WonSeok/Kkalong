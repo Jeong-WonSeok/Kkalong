{
 "cells": [
  {
   "cell_type": "code",
   "execution_count": 1,
   "metadata": {
    "collapsed": true
   },
   "outputs": [],
   "source": [
    "import time\n",
    "import pymysql\n",
    "from sqlalchemy import create_engine\n",
    "import sqlalchemy\n",
    "import numpy as np\n",
    "import pandas as pd\n",
    "from selenium import webdriver\n",
    "from selenium.webdriver.common.by import By\n",
    "from selenium.common.exceptions import NoSuchElementException\n",
    "from selenium.webdriver.common.desired_capabilities import DesiredCapabilities\n",
    "from selenium.webdriver.common.keys import Keys\n",
    "\n",
    "from selenium.webdriver.support.ui import WebDriverWait\n",
    "from selenium.webdriver.common.by import By\n",
    "from selenium.webdriver.support import expected_conditions as EC"
   ]
  },
  {
   "cell_type": "code",
   "execution_count": 2,
   "outputs": [],
   "source": [
    "chrome_options = webdriver.ChromeOptions()\n",
    "chrome_options.add_argument('--headless')\n",
    "chrome_options.add_argument('--no-sandbox')\n",
    "chrome_options.add_argument('--disable-dev-shm-usage')\n",
    "chrome_options.add_argument(\"window-size=1200x600\")"
   ],
   "metadata": {
    "collapsed": false
   }
  },
  {
   "cell_type": "code",
   "execution_count": 3,
   "outputs": [
    {
     "name": "stdout",
     "output_type": "stream",
     "text": [
      "1\n",
      "ZIKLAG\n",
      "2\n",
      "ZAMU\n",
      "3\n",
      "ZAKOPANE\n",
      "4\n",
      "ZAXY\n",
      "5\n",
      "ZAXY KIDS\n",
      "6\n",
      "ZANCA\n",
      "7\n",
      "ZAMBEDA\n",
      "8\n",
      "ZAMST\n",
      "9\n",
      "ZAMBLE\n",
      "10\n",
      "Zadig & Voltaire\n",
      "11\n",
      "ZENIPION\n",
      "12\n",
      "ZERO HALLIBURTON GOLF\n",
      "13\n",
      "ZEROGRAM\n",
      "14\n",
      "ZEROGRAM GEAR\n",
      "15\n",
      "ZERO DE CONDUITE\n",
      "16\n",
      "ZEROLOUNGE\n",
      "17\n",
      "ZEROSTREET\n",
      "18\n",
      "ZEROWELL\n",
      "19\n",
      "ZEROJ\n",
      "20\n",
      "ZEROPERZERO\n",
      "21\n",
      "ZEROPLANET\n",
      "22\n",
      "ZEMETA\n",
      "23\n",
      "ZEUS\n",
      "24\n",
      "ZETES\n",
      "25\n",
      "ZETT\n",
      "26\n",
      "ZDA\n",
      "27\n",
      "ZENNY CLOSET\n",
      "28\n",
      "ZEN VALEUR\n",
      "29\n",
      "ZENSAI\n",
      "30\n",
      "ZNOTHER\n",
      "31\n",
      "ZELOTIS\n",
      "32\n",
      "ZOBHA\n",
      "33\n",
      "ZOENA\n",
      "34\n",
      "ZOWIE\n",
      "35\n",
      "ZONEOFF\n",
      "36\n",
      "ZONPHYTO\n",
      "37\n",
      "ZUDRITT\n",
      "38\n",
      "ZOO SNOODS\n",
      "39\n",
      "ZHOUERO\n",
      "40\n",
      "ZULUPACK\n",
      "41\n",
      "ZHOOSH\n",
      "42\n",
      "ZKIYO\n",
      "43\n",
      "ZINUS\n",
      "44\n",
      "ZIDOK SEOUL\n",
      "45\n",
      "ZBLACK\n",
      "46\n",
      "ZISZAS\n",
      "47\n",
      "ZIOSONGZIO\n",
      "48\n",
      "ZIJANGSA\n",
      "49\n",
      "ZIZUSS\n",
      "50\n",
      "ZZERO SONGZIO\n",
      "51\n",
      "ZIZEMUSEUM\n",
      "52\n",
      "ZIZIS\n",
      "53\n",
      "ZCODE\n",
      "54\n",
      "ZIPPERS CLUB\n",
      "55\n",
      "ZIPPO\n",
      "56\n",
      "ZPLISH\n",
      "57\n",
      "ZIHEE\n",
      "58\n",
      "ZILCH\n",
      "59\n",
      "ZIPIT\n",
      "60\n"
     ]
    }
   ],
   "source": [
    "url = 'https://www.musinsa.com/app/contents/brandshop'\n",
    "# def brand_scraping(url) :\n",
    "wd = webdriver.Chrome('chromedriver', options=chrome_options)\n",
    "wd.implicitly_wait(5)\n",
    "wd.get(url)\n",
    "df = pd.DataFrame(columns= ( \"brand\", \"img\"))\n",
    "dataIdx = 0\n",
    "i = 26\n",
    "for j in range(1, 1000):\n",
    "    print(j)\n",
    "    try:\n",
    "        brand = wd.find_element(By.XPATH, \"/html/body/div[3]/div[3]/div[4]/div[%d]/ul/li[%d]/dl/dt/a\"%(i, j)).text\n",
    "        print(brand)\n",
    "        wd.find_element(By.XPATH, \"/html/body/div[3]/div[3]/div[4]/div[%d]/ul/li[%d]/dl/dt/a\"%(i, j)).click()\n",
    "        img = wd.find_element(By.XPATH, \"/html/body/div[2]/div[3]/div[3]/div[1]/p[1]/img\").get_attribute('src')\n",
    "        df.loc[dataIdx] = [brand, img];\n",
    "        wd.back()\n",
    "        dataIdx += 1\n",
    "    except:\n",
    "        break;\n",
    "    # return df\n",
    "\n"
   ],
   "metadata": {
    "collapsed": false
   }
  },
  {
   "cell_type": "code",
   "execution_count": null,
   "outputs": [],
   "source": [
    "#complete\n",
    "df"
   ],
   "metadata": {
    "collapsed": false,
    "pycharm": {
     "is_executing": true
    }
   }
  },
  {
   "cell_type": "code",
   "execution_count": 4,
   "outputs": [],
   "source": [
    "df.to_csv(\"Data/brandZ.csv\")"
   ],
   "metadata": {
    "collapsed": false
   }
  },
  {
   "cell_type": "code",
   "execution_count": null,
   "outputs": [],
   "source": [],
   "metadata": {
    "collapsed": false
   }
  }
 ],
 "metadata": {
  "kernelspec": {
   "display_name": "Python 3",
   "language": "python",
   "name": "python3"
  },
  "language_info": {
   "codemirror_mode": {
    "name": "ipython",
    "version": 2
   },
   "file_extension": ".py",
   "mimetype": "text/x-python",
   "name": "python",
   "nbconvert_exporter": "python",
   "pygments_lexer": "ipython2",
   "version": "2.7.6"
  }
 },
 "nbformat": 4,
 "nbformat_minor": 0
}
