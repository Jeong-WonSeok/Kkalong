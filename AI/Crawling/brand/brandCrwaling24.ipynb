{
 "cells": [
  {
   "cell_type": "code",
   "execution_count": 1,
   "metadata": {
    "collapsed": true
   },
   "outputs": [],
   "source": [
    "import time\n",
    "import pymysql\n",
    "from sqlalchemy import create_engine\n",
    "import sqlalchemy\n",
    "import numpy as np\n",
    "import pandas as pd\n",
    "from selenium import webdriver\n",
    "from selenium.webdriver.common.by import By\n",
    "from selenium.common.exceptions import NoSuchElementException\n",
    "from selenium.webdriver.common.desired_capabilities import DesiredCapabilities\n",
    "from selenium.webdriver.common.keys import Keys\n",
    "\n",
    "from selenium.webdriver.support.ui import WebDriverWait\n",
    "from selenium.webdriver.common.by import By\n",
    "from selenium.webdriver.support import expected_conditions as EC"
   ]
  },
  {
   "cell_type": "code",
   "execution_count": 2,
   "outputs": [],
   "source": [
    "chrome_options = webdriver.ChromeOptions()\n",
    "chrome_options.add_argument('--headless')\n",
    "chrome_options.add_argument('--no-sandbox')\n",
    "chrome_options.add_argument('--disable-dev-shm-usage')\n",
    "chrome_options.add_argument(\"window-size=1200x600\")"
   ],
   "metadata": {
    "collapsed": false
   }
  },
  {
   "cell_type": "code",
   "execution_count": 3,
   "outputs": [
    {
     "name": "stdout",
     "output_type": "stream",
     "text": [
      "1\n",
      "XIANN\n",
      "2\n",
      "XNAZZY\n",
      "3\n",
      "XDDESIGN\n",
      "4\n",
      "X-LARGE\n",
      "5\n",
      "X-SACKY\n",
      "6\n",
      "XYZ\n",
      "7\n",
      "XZ COMPANY\n",
      "8\n",
      "XCORE\n",
      "9\n",
      "XTONZ\n",
      "10\n",
      "XPIER\n",
      "11\n",
      "XIOM\n",
      "12\n",
      "XNADU WORKS\n",
      "13\n",
      "XENIA TALER\n",
      "14\n",
      "XENICS\n",
      "15\n",
      "XERO\n",
      "16\n",
      "XXIO\n",
      "17\n",
      "XXA\n",
      "18\n"
     ]
    }
   ],
   "source": [
    "url = 'https://www.musinsa.com/app/contents/brandshop'\n",
    "# def brand_scraping(url) :\n",
    "wd = webdriver.Chrome('chromedriver', options=chrome_options)\n",
    "wd.implicitly_wait(5)\n",
    "wd.get(url)\n",
    "df = pd.DataFrame(columns= ( \"brand\", \"img\"))\n",
    "dataIdx = 0\n",
    "i = 24\n",
    "for j in range(1, 1000):\n",
    "    print(j)\n",
    "    try:\n",
    "        brand = wd.find_element(By.XPATH, \"/html/body/div[3]/div[3]/div[4]/div[%d]/ul/li[%d]/dl/dt/a\"%(i, j)).text\n",
    "        print(brand)\n",
    "        wd.find_element(By.XPATH, \"/html/body/div[3]/div[3]/div[4]/div[%d]/ul/li[%d]/dl/dt/a\"%(i, j)).click()\n",
    "        img = wd.find_element(By.XPATH, \"/html/body/div[2]/div[3]/div[3]/div[1]/p[1]/img\").get_attribute('src')\n",
    "        df.loc[dataIdx] = [brand, img];\n",
    "        wd.back()\n",
    "        dataIdx += 1\n",
    "    except:\n",
    "        break;\n",
    "    # return df\n",
    "\n"
   ],
   "metadata": {
    "collapsed": false
   }
  },
  {
   "cell_type": "code",
   "execution_count": null,
   "outputs": [],
   "source": [
    "#complete\n",
    "df"
   ],
   "metadata": {
    "collapsed": false,
    "pycharm": {
     "is_executing": true
    }
   }
  },
  {
   "cell_type": "code",
   "execution_count": 4,
   "outputs": [],
   "source": [
    "df.to_csv(\"Data/brandX.csv\")"
   ],
   "metadata": {
    "collapsed": false
   }
  },
  {
   "cell_type": "code",
   "execution_count": null,
   "outputs": [],
   "source": [],
   "metadata": {
    "collapsed": false
   }
  }
 ],
 "metadata": {
  "kernelspec": {
   "display_name": "Python 3",
   "language": "python",
   "name": "python3"
  },
  "language_info": {
   "codemirror_mode": {
    "name": "ipython",
    "version": 2
   },
   "file_extension": ".py",
   "mimetype": "text/x-python",
   "name": "python",
   "nbconvert_exporter": "python",
   "pygments_lexer": "ipython2",
   "version": "2.7.6"
  }
 },
 "nbformat": 4,
 "nbformat_minor": 0
}
