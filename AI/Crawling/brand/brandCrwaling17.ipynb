{
 "cells": [
  {
   "cell_type": "code",
   "execution_count": 1,
   "metadata": {
    "collapsed": true
   },
   "outputs": [],
   "source": [
    "import time\n",
    "import pymysql\n",
    "from sqlalchemy import create_engine\n",
    "import sqlalchemy\n",
    "import numpy as np\n",
    "import pandas as pd\n",
    "from selenium import webdriver\n",
    "from selenium.webdriver.common.by import By\n",
    "from selenium.common.exceptions import NoSuchElementException\n",
    "from selenium.webdriver.common.desired_capabilities import DesiredCapabilities\n",
    "from selenium.webdriver.common.keys import Keys\n",
    "\n",
    "from selenium.webdriver.support.ui import WebDriverWait\n",
    "from selenium.webdriver.common.by import By\n",
    "from selenium.webdriver.support import expected_conditions as EC"
   ]
  },
  {
   "cell_type": "code",
   "execution_count": 2,
   "outputs": [],
   "source": [
    "chrome_options = webdriver.ChromeOptions()\n",
    "chrome_options.add_argument('--headless')\n",
    "chrome_options.add_argument('--no-sandbox')\n",
    "chrome_options.add_argument('--disable-dev-shm-usage')\n",
    "chrome_options.add_argument(\"window-size=1200x600\")"
   ],
   "metadata": {
    "collapsed": false
   }
  },
  {
   "cell_type": "code",
   "execution_count": 3,
   "outputs": [
    {
     "name": "stdout",
     "output_type": "stream",
     "text": [
      "1\n",
      "QUAFE\n",
      "2\n",
      "QUIETIST\n",
      "3\n",
      "QUASI PURITY\n",
      "4\n",
      "QUAT\n",
      "5\n",
      "QANTO DE LOCOS\n",
      "6\n",
      "QUA VINO\n",
      "7\n",
      "QUARQOR\n",
      "8\n",
      "QUARK AROUND\n",
      "9\n",
      "QUALITY PERFORMANCE\n",
      "10\n",
      "QUALPACK\n",
      "11\n",
      "QUEPASO\n",
      "12\n",
      "QUISQUE de nimes\n",
      "13\n",
      "QUIKSILVER\n",
      "14\n",
      "QUIKSILVER KIDS\n",
      "15\n",
      "QUINTAESSENTIA\n",
      "16\n",
      "QDMM\n",
      "17\n",
      "QMILE\n",
      "18\n",
      "QUE BOTTLE\n",
      "19\n",
      "QV\n",
      "20\n",
      "QCY\n",
      "21\n",
      "QCUMBERS\n",
      "22\n",
      "QT8\n",
      "23\n",
      "QISE UNDERWEAR\n",
      "24\n"
     ]
    }
   ],
   "source": [
    "url = 'https://www.musinsa.com/app/contents/brandshop'\n",
    "# def brand_scraping(url) :\n",
    "wd = webdriver.Chrome('chromedriver', options=chrome_options)\n",
    "wd.implicitly_wait(5)\n",
    "wd.get(url)\n",
    "df = pd.DataFrame(columns= ( \"brand\", \"img\"))\n",
    "dataIdx = 0\n",
    "i = 17\n",
    "for j in range(1, 1000):\n",
    "    print(j)\n",
    "    try:\n",
    "        brand = wd.find_element(By.XPATH, \"/html/body/div[3]/div[3]/div[4]/div[%d]/ul/li[%d]/dl/dt/a\"%(i, j)).text\n",
    "        print(brand)\n",
    "        wd.find_element(By.XPATH, \"/html/body/div[3]/div[3]/div[4]/div[%d]/ul/li[%d]/dl/dt/a\"%(i, j)).click()\n",
    "        img = wd.find_element(By.XPATH, \"/html/body/div[2]/div[3]/div[3]/div[1]/p[1]/img\").get_attribute('src')\n",
    "        df.loc[dataIdx] = [brand, img];\n",
    "        wd.back()\n",
    "        dataIdx += 1\n",
    "    except:\n",
    "        break;\n",
    "    # return df\n",
    "\n"
   ],
   "metadata": {
    "collapsed": false
   }
  },
  {
   "cell_type": "code",
   "execution_count": 4,
   "outputs": [
    {
     "data": {
      "text/plain": "                  brand                                                img\n0                 QUAFE  https://image.msscdn.net/mfile_s01/_brand/free...\n1              QUIETIST  https://image.msscdn.net/mfile_s01/_brand/free...\n2          QUASI PURITY  https://image.msscdn.net/mfile_s01/_brand/free...\n3                  QUAT  https://image.msscdn.net/mfile_s01/_brand/free...\n4        QANTO DE LOCOS  https://image.msscdn.net/mfile_s01/_brand/free...\n5              QUA VINO  https://image.msscdn.net/mfile_s01/_brand/free...\n6               QUARQOR  https://image.msscdn.net/mfile_s01/_brand/free...\n7          QUARK AROUND  https://image.msscdn.net/mfile_s01/_brand/free...\n8   QUALITY PERFORMANCE  https://image.msscdn.net/mfile_s01/_brand/free...\n9              QUALPACK  https://image.msscdn.net/mfile_s01/_brand/free...\n10              QUEPASO  https://image.msscdn.net/mfile_s01/_brand/free...\n11     QUISQUE de nimes  https://image.msscdn.net/mfile_s01/_brand/free...\n12           QUIKSILVER  https://image.msscdn.net/mfile_s01/_brand/free...\n13      QUIKSILVER KIDS  https://image.msscdn.net/mfile_s01/_brand/free...\n14       QUINTAESSENTIA  https://image.msscdn.net/mfile_s01/_brand/free...\n15                 QDMM  https://image.msscdn.net/mfile_s01/_brand/free...\n16                QMILE  https://image.msscdn.net/mfile_s01/_brand/free...\n17           QUE BOTTLE  https://image.msscdn.net/mfile_s01/_brand/free...\n18                   QV  https://image.msscdn.net/mfile_s01/_brand/free...\n19                  QCY  https://image.msscdn.net/mfile_s01/_brand/free...\n20             QCUMBERS  https://image.msscdn.net/mfile_s01/_brand/free...\n21                  QT8  https://image.msscdn.net/mfile_s01/_brand/free...\n22       QISE UNDERWEAR  https://image.msscdn.net/mfile_s01/_brand/free...",
      "text/html": "<div>\n<style scoped>\n    .dataframe tbody tr th:only-of-type {\n        vertical-align: middle;\n    }\n\n    .dataframe tbody tr th {\n        vertical-align: top;\n    }\n\n    .dataframe thead th {\n        text-align: right;\n    }\n</style>\n<table border=\"1\" class=\"dataframe\">\n  <thead>\n    <tr style=\"text-align: right;\">\n      <th></th>\n      <th>brand</th>\n      <th>img</th>\n    </tr>\n  </thead>\n  <tbody>\n    <tr>\n      <th>0</th>\n      <td>QUAFE</td>\n      <td>https://image.msscdn.net/mfile_s01/_brand/free...</td>\n    </tr>\n    <tr>\n      <th>1</th>\n      <td>QUIETIST</td>\n      <td>https://image.msscdn.net/mfile_s01/_brand/free...</td>\n    </tr>\n    <tr>\n      <th>2</th>\n      <td>QUASI PURITY</td>\n      <td>https://image.msscdn.net/mfile_s01/_brand/free...</td>\n    </tr>\n    <tr>\n      <th>3</th>\n      <td>QUAT</td>\n      <td>https://image.msscdn.net/mfile_s01/_brand/free...</td>\n    </tr>\n    <tr>\n      <th>4</th>\n      <td>QANTO DE LOCOS</td>\n      <td>https://image.msscdn.net/mfile_s01/_brand/free...</td>\n    </tr>\n    <tr>\n      <th>5</th>\n      <td>QUA VINO</td>\n      <td>https://image.msscdn.net/mfile_s01/_brand/free...</td>\n    </tr>\n    <tr>\n      <th>6</th>\n      <td>QUARQOR</td>\n      <td>https://image.msscdn.net/mfile_s01/_brand/free...</td>\n    </tr>\n    <tr>\n      <th>7</th>\n      <td>QUARK AROUND</td>\n      <td>https://image.msscdn.net/mfile_s01/_brand/free...</td>\n    </tr>\n    <tr>\n      <th>8</th>\n      <td>QUALITY PERFORMANCE</td>\n      <td>https://image.msscdn.net/mfile_s01/_brand/free...</td>\n    </tr>\n    <tr>\n      <th>9</th>\n      <td>QUALPACK</td>\n      <td>https://image.msscdn.net/mfile_s01/_brand/free...</td>\n    </tr>\n    <tr>\n      <th>10</th>\n      <td>QUEPASO</td>\n      <td>https://image.msscdn.net/mfile_s01/_brand/free...</td>\n    </tr>\n    <tr>\n      <th>11</th>\n      <td>QUISQUE de nimes</td>\n      <td>https://image.msscdn.net/mfile_s01/_brand/free...</td>\n    </tr>\n    <tr>\n      <th>12</th>\n      <td>QUIKSILVER</td>\n      <td>https://image.msscdn.net/mfile_s01/_brand/free...</td>\n    </tr>\n    <tr>\n      <th>13</th>\n      <td>QUIKSILVER KIDS</td>\n      <td>https://image.msscdn.net/mfile_s01/_brand/free...</td>\n    </tr>\n    <tr>\n      <th>14</th>\n      <td>QUINTAESSENTIA</td>\n      <td>https://image.msscdn.net/mfile_s01/_brand/free...</td>\n    </tr>\n    <tr>\n      <th>15</th>\n      <td>QDMM</td>\n      <td>https://image.msscdn.net/mfile_s01/_brand/free...</td>\n    </tr>\n    <tr>\n      <th>16</th>\n      <td>QMILE</td>\n      <td>https://image.msscdn.net/mfile_s01/_brand/free...</td>\n    </tr>\n    <tr>\n      <th>17</th>\n      <td>QUE BOTTLE</td>\n      <td>https://image.msscdn.net/mfile_s01/_brand/free...</td>\n    </tr>\n    <tr>\n      <th>18</th>\n      <td>QV</td>\n      <td>https://image.msscdn.net/mfile_s01/_brand/free...</td>\n    </tr>\n    <tr>\n      <th>19</th>\n      <td>QCY</td>\n      <td>https://image.msscdn.net/mfile_s01/_brand/free...</td>\n    </tr>\n    <tr>\n      <th>20</th>\n      <td>QCUMBERS</td>\n      <td>https://image.msscdn.net/mfile_s01/_brand/free...</td>\n    </tr>\n    <tr>\n      <th>21</th>\n      <td>QT8</td>\n      <td>https://image.msscdn.net/mfile_s01/_brand/free...</td>\n    </tr>\n    <tr>\n      <th>22</th>\n      <td>QISE UNDERWEAR</td>\n      <td>https://image.msscdn.net/mfile_s01/_brand/free...</td>\n    </tr>\n  </tbody>\n</table>\n</div>"
     },
     "execution_count": 4,
     "metadata": {},
     "output_type": "execute_result"
    }
   ],
   "source": [
    "#complete\n",
    "df"
   ],
   "metadata": {
    "collapsed": false
   }
  },
  {
   "cell_type": "code",
   "execution_count": 5,
   "outputs": [],
   "source": [
    "df.to_csv(\"Data/brandQ.csv\")"
   ],
   "metadata": {
    "collapsed": false
   }
  },
  {
   "cell_type": "code",
   "execution_count": null,
   "outputs": [],
   "source": [],
   "metadata": {
    "collapsed": false
   }
  }
 ],
 "metadata": {
  "kernelspec": {
   "display_name": "Python 3",
   "language": "python",
   "name": "python3"
  },
  "language_info": {
   "codemirror_mode": {
    "name": "ipython",
    "version": 2
   },
   "file_extension": ".py",
   "mimetype": "text/x-python",
   "name": "python",
   "nbconvert_exporter": "python",
   "pygments_lexer": "ipython2",
   "version": "2.7.6"
  }
 },
 "nbformat": 4,
 "nbformat_minor": 0
}
