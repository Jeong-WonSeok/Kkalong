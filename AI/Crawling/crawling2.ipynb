{
 "cells": [
  {
   "cell_type": "code",
   "execution_count": 29,
   "outputs": [],
   "source": [
    "import time\n",
    "import pymysql\n",
    "from sqlalchemy import create_engine\n",
    "import sqlalchemy\n",
    "import numpy as np\n",
    "import pandas as pd\n",
    "from selenium import webdriver\n",
    "from selenium.webdriver.common.by import By\n",
    "from selenium.common.exceptions import NoSuchElementException\n",
    "from selenium.webdriver.common.desired_capabilities import DesiredCapabilities\n",
    "from selenium.webdriver.common.keys import Keys"
   ],
   "metadata": {
    "collapsed": false
   }
  },
  {
   "cell_type": "code",
   "execution_count": 30,
   "outputs": [],
   "source": [
    "# caps = DesiredCapabilities().CHROME\n",
    "# caps[\"pageLoadStrategy\"] = \"none\"\n",
    "chrome_options = webdriver.ChromeOptions()\n",
    "chrome_options.add_argument('--headless')\n",
    "chrome_options.add_argument('--no-sandbox')\n",
    "chrome_options.add_argument('--disable-dev-shm-usage')"
   ],
   "metadata": {
    "collapsed": false
   }
  },
  {
   "cell_type": "code",
   "execution_count": 60,
   "outputs": [],
   "source": [
    "def cody_scraping():\n",
    "    wd = webdriver.Chrome('chromedriver', options=chrome_options)\n",
    "    wd.implicitly_wait(3)\n",
    "    codyDf = pd.DataFrame(columns={\"cody_category\"})\n",
    "    clothesDf = pd.DataFrame(columns=(\"cody_id\", \"clothes_maincategory\", \"clothes_subcategorry\", \"brand\", \"color\", \"season\", \"gender\",\n",
    "                                        \"spring\", \"summer\", \"autumn\", \"winter\", \"img\"))\n",
    "    reviewDf = pd.DataFrame(columns=(\"clothes_id\", \"gender\", \"height\", \"weight\", \"size\", \"size_review\", \"bright\", \"color\", \"thick\"))\n",
    "\n",
    "    codyCategory = [\"americancasual\"] # , \"casual\", \"chic\", \"dandy\", \"formal\", \"girlish\", \"golf\", \"retro\", \"romantic\", \"sports\", \"street\"]\n",
    "    codyIdx = 0;\n",
    "    clothesIdx = 0;\n",
    "    for category in codyCategory:\n",
    "        for i in range(1, 2): #3\n",
    "            url = \"https://www.musinsa.com/app/styles/lists?use_yn_360=&style_type=%s&brand=&model=&tag_no=&max_rt=&min_rt=&display_cnt=60&list_kind=big&sort=view_cnt&page=%d\" % (category, i)\n",
    "            for j in range(1, 2): #61\n",
    "                wd.get(url)\n",
    "                wd.find_element(By.XPATH, \"/html/body/div[3]/div[3]/form/div[4]/div/ul/li[%d]/div[1]/a\" % j).click()\n",
    "                codyDf.loc[codyIdx] = [category]\n",
    "                codyIdx += 1\n",
    "                ###################################################\n",
    "                # 옷 정보 크롤링\n",
    "                ###################################################\n",
    "                for info in range(1, 11):\n",
    "                    print(info)\n",
    "                    info_url = \"\"\n",
    "                    try:\n",
    "                        info_url = wd.find_element(By.XPATH, '//*[@id=\"style_info\"]/div[3]/div[2]/div/div/div[1]/div[%d]/div[1]/a'%info).get_attribute('href')\n",
    "                    except:\n",
    "                        print(check)\n",
    "                        continue\n",
    "\n",
    "                    wd.get(info_url)\n",
    "\n",
    "                    clothesMaincategory = wd.find_element(By.XPATH,'//*[@id=\"page_product_detail\"]/div[3]/div[3]/div[1]/p/a[1]').text\n",
    "                    clothesSubCategory = wd.find_element(By.XPATH, '//*[@id=\"page_product_detail\"]/div[3]/div[3]/div[1]/p/a[2]').text\n",
    "                    check = wd.find_element(By.XPATH, '//*[@id=\"product_order_info\"]/div[1]/h4').text\n",
    "                    img = wd.find_element(By.XPATH, '//*[@id=\"bigimg\"]').get_attribute('src')\n",
    "\n",
    "                    if(check == \"Product Info제품정보\"):\n",
    "                        brand = wd.find_element(By.XPATH, '//*[@id=\"product_order_info\"]/div[1]/ul/li[1]/p[2]/strong/a').text\n",
    "                        try:\n",
    "                            season = wd.find_element(By.XPATH, '//*[@id=\"product_order_info\"]/div[1]/ul/li[2]/p[2]/strong').text\n",
    "                        except:\n",
    "                            season = 0\n",
    "                        if(season == 0):\n",
    "                            gender = wd.find_element(By.XPATH, '//*[@id=\"product_order_info\"]/div[1]/ul/li[2]/p[2]/span').text\n",
    "                        else:\n",
    "                            gender = wd.find_element(By.XPATH, '//*[@id=\"product_order_info\"]/div[1]/ul/li[2]/p[2]/span[2]').text\n",
    "                    else:\n",
    "                        brand = wd.find_element(By.XPATH, '//*[@id=\"product_order_info\"]/div[2]/ul/li[1]/p[2]/strong/a').text\n",
    "                        try:\n",
    "                            season = wd.find_element(By.XPATH, '//*[@id=\"product_order_info\"]/div[2]/ul/li[2]/p[2]/strong').text\n",
    "                        except:\n",
    "                            season = 0\n",
    "\n",
    "                        if(season == 0):\n",
    "                            gender = wd.find_element(By.XPATH, '//*[@id=\"product_order_info\"]/div[2]/ul/li[2]/p[2]/span').text\n",
    "                        else:\n",
    "                            gender = wd.find_element(By.XPATH, '//*[@id=\"product_order_info\"]/div[2]/ul/li[2]/p[2]/span[2]').text\n",
    "                    # clothes_maincategory clothes_subcategorry  summer autumn spring  gender brand cody_id color season winter\n",
    "                    clothesDf.loc[clothesIdx] = [(codyIdx-1), clothesMaincategory, clothesSubCategory, brand, np.nan, season, gender, np.nan, np.nan, np.nan, np.nan, img]\n",
    "\n",
    "                    tempDf = review_crawling(clothesIdx, wd)\n",
    "                    reviewDf = pd.concat([reviewDf, tempDf], ignore_index=True)\n",
    "                    print(reviewDf)\n",
    "                    clothesIdx += 1\n",
    "\n",
    "                    wd.back()\n",
    "            # print(codyDf.tail())\n",
    "    return codyDf, clothesDf, reviewDf"
   ],
   "metadata": {
    "collapsed": false
   }
  },
  {
   "cell_type": "code",
   "execution_count": 66,
   "outputs": [],
   "source": [
    "def review_crawling(clothesIdx, wd):\n",
    "    reviewDf = pd.DataFrame(columns=(\"clothes_id\", \"gender\", \"height\", \"weight\", \"size\", \"size_review\", \"bright\", \"color\", \"thick\"))\n",
    "    wd.find_element(By.XPATH, '//*[@id=\"estimateBox\"]/div[2]/ul/li[3]').click()\n",
    "\n",
    "    reviewIdx = 0\n",
    "    last = False\n",
    "    for i in range(1, 3):\n",
    "        if(last):\n",
    "            break\n",
    "        for page in range(1, 6):\n",
    "            if(last):\n",
    "                break\n",
    "            for idx in range(1, 12):\n",
    "                if(last):\n",
    "                    break\n",
    "\n",
    "                try:\n",
    "                    text = wd.find_element(By.XPATH, '//*[@id=\"reviewListFragment\"]/div[%d]/div[1]/div/div[1]/p[1]' % idx).text\n",
    "                except:\n",
    "                    if(idx <= 10):\n",
    "                        last = True\n",
    "                    else:\n",
    "                        if(page == 5):\n",
    "                            break\n",
    "                        wd.find_element(By.XPATH, '//*[@id=\"reviewListFragment\"]/div[%d]/div[2]/div/a[%d]' %  (idx, (page + 3))).send_keys(Keys.ENTER)\n",
    "\n",
    "                try:\n",
    "                    user = wd.find_element(By.XPATH, '//*[@id=\"reviewListFragment\"]/div[%d]/div[1]/div/div[2]/p' % idx).text\n",
    "                except:\n",
    "                    continue\n",
    "                userArr = user.split(',')\n",
    "                gender = userArr[0]\n",
    "                height = userArr[1]\n",
    "                weight = userArr[2]\n",
    "                size = wd.find_element(By.XPATH, '//*[@id=\"reviewListFragment\"]/div[%d]/div[2]/div[2]/p/span' % idx).text\n",
    "                size_review = wd.find_element(By.XPATH, '//*[@id=\"reviewListFragment\"]/div[%d]/div[4]/div[2]/ul/li[1]/span'% idx).text\n",
    "                bright = wd.find_element(By.XPATH, '//*[@id=\"reviewListFragment\"]/div[%d]/div[4]/div[2]/ul/li[2]/span'% idx).text\n",
    "                color = wd.find_element(By.XPATH, '//*[@id=\"reviewListFragment\"]/div[%d]/div[4]/div[2]/ul/li[3]/span'% idx).text\n",
    "                thick = wd.find_element(By.XPATH, '//*[@id=\"reviewListFragment\"]/div[%d]/div[4]/div[2]/ul/li[4]/span'% idx).text\n",
    "\n",
    "                reviewDf.loc[reviewIdx] = [clothesIdx, gender, height, weight, size, size_review, bright, color, thick]\n",
    "                reviewIdx += 1\n",
    "\n",
    "\n",
    "        if(last == False):\n",
    "            wd.find_element(By.XPATH, '//*[@id=\"reviewListFragment\"]/div[11]/div[2]/div/a[8]').click()\n",
    "    return reviewDf\n",
    "\n"
   ],
   "metadata": {
    "collapsed": false
   }
  },
  {
   "cell_type": "code",
   "execution_count": 67,
   "outputs": [
    {
     "name": "stdout",
     "output_type": "stream",
     "text": [
      "1\n"
     ]
    },
    {
     "ename": "ElementNotInteractableException",
     "evalue": "Message: element not interactable\n  (Session info: headless chrome=106.0.5249.119)\nStacktrace:\nBacktrace:\n\tOrdinal0 [0x00DEDF13+2219795]\n\tOrdinal0 [0x00D82841+1779777]\n\tOrdinal0 [0x00C94100+803072]\n\tOrdinal0 [0x00CC3FB6+999350]\n\tOrdinal0 [0x00CB9B76+957302]\n\tOrdinal0 [0x00CDE7FC+1107964]\n\tOrdinal0 [0x00CB94B4+955572]\n\tOrdinal0 [0x00CDEA14+1108500]\n\tOrdinal0 [0x00CEF192+1175954]\n\tOrdinal0 [0x00CDE616+1107478]\n\tOrdinal0 [0x00CB7F89+950153]\n\tOrdinal0 [0x00CB8F56+954198]\n\tGetHandleVerifier [0x010E2CB2+3040210]\n\tGetHandleVerifier [0x010D2BB4+2974420]\n\tGetHandleVerifier [0x00E86A0A+565546]\n\tGetHandleVerifier [0x00E85680+560544]\n\tOrdinal0 [0x00D89A5C+1808988]\n\tOrdinal0 [0x00D8E3A8+1827752]\n\tOrdinal0 [0x00D8E495+1827989]\n\tOrdinal0 [0x00D980A4+1867940]\n\tBaseThreadInitThunk [0x7520FA29+25]\n\tRtlGetAppContainerNamedObjectPath [0x76F27A9E+286]\n\tRtlGetAppContainerNamedObjectPath [0x76F27A6E+238]\n",
     "output_type": "error",
     "traceback": [
      "\u001B[1;31m---------------------------------------------------------------------------\u001B[0m",
      "\u001B[1;31mElementNotInteractableException\u001B[0m           Traceback (most recent call last)",
      "\u001B[1;32m~\\AppData\\Local\\Temp\\ipykernel_26656\\2023616325.py\u001B[0m in \u001B[0;36m<module>\u001B[1;34m\u001B[0m\n\u001B[1;32m----> 1\u001B[1;33m \u001B[0mcody\u001B[0m\u001B[1;33m,\u001B[0m \u001B[0mclothes\u001B[0m\u001B[1;33m,\u001B[0m \u001B[0mreview\u001B[0m \u001B[1;33m=\u001B[0m \u001B[0mcody_scraping\u001B[0m\u001B[1;33m(\u001B[0m\u001B[1;33m)\u001B[0m\u001B[1;33m\u001B[0m\u001B[1;33m\u001B[0m\u001B[0m\n\u001B[0m",
      "\u001B[1;32m~\\AppData\\Local\\Temp\\ipykernel_26656\\2414937782.py\u001B[0m in \u001B[0;36mcody_scraping\u001B[1;34m()\u001B[0m\n\u001B[0;32m     62\u001B[0m \u001B[1;33m\u001B[0m\u001B[0m\n\u001B[0;32m     63\u001B[0m                     \u001B[0mtime\u001B[0m\u001B[1;33m.\u001B[0m\u001B[0msleep\u001B[0m\u001B[1;33m(\u001B[0m\u001B[1;36m2\u001B[0m\u001B[1;33m)\u001B[0m\u001B[1;33m\u001B[0m\u001B[1;33m\u001B[0m\u001B[0m\n\u001B[1;32m---> 64\u001B[1;33m                     \u001B[0mtempDf\u001B[0m \u001B[1;33m=\u001B[0m \u001B[0mreview_crawling\u001B[0m\u001B[1;33m(\u001B[0m\u001B[0mclothesIdx\u001B[0m\u001B[1;33m,\u001B[0m \u001B[0mwd\u001B[0m\u001B[1;33m)\u001B[0m\u001B[1;33m\u001B[0m\u001B[1;33m\u001B[0m\u001B[0m\n\u001B[0m\u001B[0;32m     65\u001B[0m                     \u001B[0mreviewDf\u001B[0m \u001B[1;33m=\u001B[0m \u001B[0mpd\u001B[0m\u001B[1;33m.\u001B[0m\u001B[0mconcat\u001B[0m\u001B[1;33m(\u001B[0m\u001B[1;33m[\u001B[0m\u001B[0mreviewDf\u001B[0m\u001B[1;33m,\u001B[0m \u001B[0mtempDf\u001B[0m\u001B[1;33m]\u001B[0m\u001B[1;33m,\u001B[0m \u001B[0mignore_index\u001B[0m\u001B[1;33m=\u001B[0m\u001B[1;32mTrue\u001B[0m\u001B[1;33m)\u001B[0m\u001B[1;33m\u001B[0m\u001B[1;33m\u001B[0m\u001B[0m\n\u001B[0;32m     66\u001B[0m                     \u001B[0mprint\u001B[0m\u001B[1;33m(\u001B[0m\u001B[0mreviewDf\u001B[0m\u001B[1;33m)\u001B[0m\u001B[1;33m\u001B[0m\u001B[1;33m\u001B[0m\u001B[0m\n",
      "\u001B[1;32m~\\AppData\\Local\\Temp\\ipykernel_26656\\2638470050.py\u001B[0m in \u001B[0;36mreview_crawling\u001B[1;34m(clothesIdx, wd)\u001B[0m\n\u001B[0;32m      1\u001B[0m \u001B[1;32mdef\u001B[0m \u001B[0mreview_crawling\u001B[0m\u001B[1;33m(\u001B[0m\u001B[0mclothesIdx\u001B[0m\u001B[1;33m,\u001B[0m \u001B[0mwd\u001B[0m\u001B[1;33m)\u001B[0m\u001B[1;33m:\u001B[0m\u001B[1;33m\u001B[0m\u001B[1;33m\u001B[0m\u001B[0m\n\u001B[0;32m      2\u001B[0m     \u001B[0mreviewDf\u001B[0m \u001B[1;33m=\u001B[0m \u001B[0mpd\u001B[0m\u001B[1;33m.\u001B[0m\u001B[0mDataFrame\u001B[0m\u001B[1;33m(\u001B[0m\u001B[0mcolumns\u001B[0m\u001B[1;33m=\u001B[0m\u001B[1;33m(\u001B[0m\u001B[1;34m\"clothes_id\"\u001B[0m\u001B[1;33m,\u001B[0m \u001B[1;34m\"gender\"\u001B[0m\u001B[1;33m,\u001B[0m \u001B[1;34m\"height\"\u001B[0m\u001B[1;33m,\u001B[0m \u001B[1;34m\"weight\"\u001B[0m\u001B[1;33m,\u001B[0m \u001B[1;34m\"size\"\u001B[0m\u001B[1;33m,\u001B[0m \u001B[1;34m\"size_review\"\u001B[0m\u001B[1;33m,\u001B[0m \u001B[1;34m\"bright\"\u001B[0m\u001B[1;33m,\u001B[0m \u001B[1;34m\"color\"\u001B[0m\u001B[1;33m,\u001B[0m \u001B[1;34m\"thick\"\u001B[0m\u001B[1;33m)\u001B[0m\u001B[1;33m)\u001B[0m\u001B[1;33m\u001B[0m\u001B[1;33m\u001B[0m\u001B[0m\n\u001B[1;32m----> 3\u001B[1;33m     \u001B[0mwd\u001B[0m\u001B[1;33m.\u001B[0m\u001B[0mfind_element\u001B[0m\u001B[1;33m(\u001B[0m\u001B[0mBy\u001B[0m\u001B[1;33m.\u001B[0m\u001B[0mXPATH\u001B[0m\u001B[1;33m,\u001B[0m \u001B[1;34m'//*[@id=\"estimateBox\"]/div[2]/ul/li[3]'\u001B[0m\u001B[1;33m)\u001B[0m\u001B[1;33m.\u001B[0m\u001B[0mclick\u001B[0m\u001B[1;33m(\u001B[0m\u001B[1;33m)\u001B[0m\u001B[1;33m\u001B[0m\u001B[1;33m\u001B[0m\u001B[0m\n\u001B[0m\u001B[0;32m      4\u001B[0m \u001B[1;33m\u001B[0m\u001B[0m\n\u001B[0;32m      5\u001B[0m     \u001B[0mreviewIdx\u001B[0m \u001B[1;33m=\u001B[0m \u001B[1;36m0\u001B[0m\u001B[1;33m\u001B[0m\u001B[1;33m\u001B[0m\u001B[0m\n",
      "\u001B[1;32mc:\\program files\\python37\\lib\\site-packages\\selenium\\webdriver\\remote\\webelement.py\u001B[0m in \u001B[0;36mclick\u001B[1;34m(self)\u001B[0m\n\u001B[0;32m     86\u001B[0m     \u001B[1;32mdef\u001B[0m \u001B[0mclick\u001B[0m\u001B[1;33m(\u001B[0m\u001B[0mself\u001B[0m\u001B[1;33m)\u001B[0m \u001B[1;33m->\u001B[0m \u001B[1;32mNone\u001B[0m\u001B[1;33m:\u001B[0m\u001B[1;33m\u001B[0m\u001B[1;33m\u001B[0m\u001B[0m\n\u001B[0;32m     87\u001B[0m         \u001B[1;34m\"\"\"Clicks the element.\"\"\"\u001B[0m\u001B[1;33m\u001B[0m\u001B[1;33m\u001B[0m\u001B[0m\n\u001B[1;32m---> 88\u001B[1;33m         \u001B[0mself\u001B[0m\u001B[1;33m.\u001B[0m\u001B[0m_execute\u001B[0m\u001B[1;33m(\u001B[0m\u001B[0mCommand\u001B[0m\u001B[1;33m.\u001B[0m\u001B[0mCLICK_ELEMENT\u001B[0m\u001B[1;33m)\u001B[0m\u001B[1;33m\u001B[0m\u001B[1;33m\u001B[0m\u001B[0m\n\u001B[0m\u001B[0;32m     89\u001B[0m \u001B[1;33m\u001B[0m\u001B[0m\n\u001B[0;32m     90\u001B[0m     \u001B[1;32mdef\u001B[0m \u001B[0msubmit\u001B[0m\u001B[1;33m(\u001B[0m\u001B[0mself\u001B[0m\u001B[1;33m)\u001B[0m\u001B[1;33m:\u001B[0m\u001B[1;33m\u001B[0m\u001B[1;33m\u001B[0m\u001B[0m\n",
      "\u001B[1;32mc:\\program files\\python37\\lib\\site-packages\\selenium\\webdriver\\remote\\webelement.py\u001B[0m in \u001B[0;36m_execute\u001B[1;34m(self, command, params)\u001B[0m\n\u001B[0;32m    394\u001B[0m             \u001B[0mparams\u001B[0m \u001B[1;33m=\u001B[0m \u001B[1;33m{\u001B[0m\u001B[1;33m}\u001B[0m\u001B[1;33m\u001B[0m\u001B[1;33m\u001B[0m\u001B[0m\n\u001B[0;32m    395\u001B[0m         \u001B[0mparams\u001B[0m\u001B[1;33m[\u001B[0m\u001B[1;34m'id'\u001B[0m\u001B[1;33m]\u001B[0m \u001B[1;33m=\u001B[0m \u001B[0mself\u001B[0m\u001B[1;33m.\u001B[0m\u001B[0m_id\u001B[0m\u001B[1;33m\u001B[0m\u001B[1;33m\u001B[0m\u001B[0m\n\u001B[1;32m--> 396\u001B[1;33m         \u001B[1;32mreturn\u001B[0m \u001B[0mself\u001B[0m\u001B[1;33m.\u001B[0m\u001B[0m_parent\u001B[0m\u001B[1;33m.\u001B[0m\u001B[0mexecute\u001B[0m\u001B[1;33m(\u001B[0m\u001B[0mcommand\u001B[0m\u001B[1;33m,\u001B[0m \u001B[0mparams\u001B[0m\u001B[1;33m)\u001B[0m\u001B[1;33m\u001B[0m\u001B[1;33m\u001B[0m\u001B[0m\n\u001B[0m\u001B[0;32m    397\u001B[0m \u001B[1;33m\u001B[0m\u001B[0m\n\u001B[0;32m    398\u001B[0m     \u001B[1;32mdef\u001B[0m \u001B[0mfind_element\u001B[0m\u001B[1;33m(\u001B[0m\u001B[0mself\u001B[0m\u001B[1;33m,\u001B[0m \u001B[0mby\u001B[0m\u001B[1;33m=\u001B[0m\u001B[0mBy\u001B[0m\u001B[1;33m.\u001B[0m\u001B[0mID\u001B[0m\u001B[1;33m,\u001B[0m \u001B[0mvalue\u001B[0m\u001B[1;33m=\u001B[0m\u001B[1;32mNone\u001B[0m\u001B[1;33m)\u001B[0m \u001B[1;33m->\u001B[0m \u001B[0mWebElement\u001B[0m\u001B[1;33m:\u001B[0m\u001B[1;33m\u001B[0m\u001B[1;33m\u001B[0m\u001B[0m\n",
      "\u001B[1;32mc:\\program files\\python37\\lib\\site-packages\\selenium\\webdriver\\remote\\webdriver.py\u001B[0m in \u001B[0;36mexecute\u001B[1;34m(self, driver_command, params)\u001B[0m\n\u001B[0;32m    426\u001B[0m         \u001B[0mresponse\u001B[0m \u001B[1;33m=\u001B[0m \u001B[0mself\u001B[0m\u001B[1;33m.\u001B[0m\u001B[0mcommand_executor\u001B[0m\u001B[1;33m.\u001B[0m\u001B[0mexecute\u001B[0m\u001B[1;33m(\u001B[0m\u001B[0mdriver_command\u001B[0m\u001B[1;33m,\u001B[0m \u001B[0mparams\u001B[0m\u001B[1;33m)\u001B[0m\u001B[1;33m\u001B[0m\u001B[1;33m\u001B[0m\u001B[0m\n\u001B[0;32m    427\u001B[0m         \u001B[1;32mif\u001B[0m \u001B[0mresponse\u001B[0m\u001B[1;33m:\u001B[0m\u001B[1;33m\u001B[0m\u001B[1;33m\u001B[0m\u001B[0m\n\u001B[1;32m--> 428\u001B[1;33m             \u001B[0mself\u001B[0m\u001B[1;33m.\u001B[0m\u001B[0merror_handler\u001B[0m\u001B[1;33m.\u001B[0m\u001B[0mcheck_response\u001B[0m\u001B[1;33m(\u001B[0m\u001B[0mresponse\u001B[0m\u001B[1;33m)\u001B[0m\u001B[1;33m\u001B[0m\u001B[1;33m\u001B[0m\u001B[0m\n\u001B[0m\u001B[0;32m    429\u001B[0m             response['value'] = self._unwrap_value(\n\u001B[0;32m    430\u001B[0m                 response.get('value', None))\n",
      "\u001B[1;32mc:\\program files\\python37\\lib\\site-packages\\selenium\\webdriver\\remote\\errorhandler.py\u001B[0m in \u001B[0;36mcheck_response\u001B[1;34m(self, response)\u001B[0m\n\u001B[0;32m    241\u001B[0m                 \u001B[0malert_text\u001B[0m \u001B[1;33m=\u001B[0m \u001B[0mvalue\u001B[0m\u001B[1;33m[\u001B[0m\u001B[1;34m'alert'\u001B[0m\u001B[1;33m]\u001B[0m\u001B[1;33m.\u001B[0m\u001B[0mget\u001B[0m\u001B[1;33m(\u001B[0m\u001B[1;34m'text'\u001B[0m\u001B[1;33m)\u001B[0m\u001B[1;33m\u001B[0m\u001B[1;33m\u001B[0m\u001B[0m\n\u001B[0;32m    242\u001B[0m             \u001B[1;32mraise\u001B[0m \u001B[0mexception_class\u001B[0m\u001B[1;33m(\u001B[0m\u001B[0mmessage\u001B[0m\u001B[1;33m,\u001B[0m \u001B[0mscreen\u001B[0m\u001B[1;33m,\u001B[0m \u001B[0mstacktrace\u001B[0m\u001B[1;33m,\u001B[0m \u001B[0malert_text\u001B[0m\u001B[1;33m)\u001B[0m  \u001B[1;31m# type: ignore[call-arg]  # mypy is not smart enough here\u001B[0m\u001B[1;33m\u001B[0m\u001B[1;33m\u001B[0m\u001B[0m\n\u001B[1;32m--> 243\u001B[1;33m         \u001B[1;32mraise\u001B[0m \u001B[0mexception_class\u001B[0m\u001B[1;33m(\u001B[0m\u001B[0mmessage\u001B[0m\u001B[1;33m,\u001B[0m \u001B[0mscreen\u001B[0m\u001B[1;33m,\u001B[0m \u001B[0mstacktrace\u001B[0m\u001B[1;33m)\u001B[0m\u001B[1;33m\u001B[0m\u001B[1;33m\u001B[0m\u001B[0m\n\u001B[0m",
      "\u001B[1;31mElementNotInteractableException\u001B[0m: Message: element not interactable\n  (Session info: headless chrome=106.0.5249.119)\nStacktrace:\nBacktrace:\n\tOrdinal0 [0x00DEDF13+2219795]\n\tOrdinal0 [0x00D82841+1779777]\n\tOrdinal0 [0x00C94100+803072]\n\tOrdinal0 [0x00CC3FB6+999350]\n\tOrdinal0 [0x00CB9B76+957302]\n\tOrdinal0 [0x00CDE7FC+1107964]\n\tOrdinal0 [0x00CB94B4+955572]\n\tOrdinal0 [0x00CDEA14+1108500]\n\tOrdinal0 [0x00CEF192+1175954]\n\tOrdinal0 [0x00CDE616+1107478]\n\tOrdinal0 [0x00CB7F89+950153]\n\tOrdinal0 [0x00CB8F56+954198]\n\tGetHandleVerifier [0x010E2CB2+3040210]\n\tGetHandleVerifier [0x010D2BB4+2974420]\n\tGetHandleVerifier [0x00E86A0A+565546]\n\tGetHandleVerifier [0x00E85680+560544]\n\tOrdinal0 [0x00D89A5C+1808988]\n\tOrdinal0 [0x00D8E3A8+1827752]\n\tOrdinal0 [0x00D8E495+1827989]\n\tOrdinal0 [0x00D980A4+1867940]\n\tBaseThreadInitThunk [0x7520FA29+25]\n\tRtlGetAppContainerNamedObjectPath [0x76F27A9E+286]\n\tRtlGetAppContainerNamedObjectPath [0x76F27A6E+238]\n"
     ]
    }
   ],
   "source": [
    "cody, clothes, review = cody_scraping()"
   ],
   "metadata": {
    "collapsed": false
   }
  },
  {
   "cell_type": "code",
   "execution_count": 58,
   "outputs": [
    {
     "data": {
      "text/plain": "Empty DataFrame\nColumns: [clothes_id, gender, height, weight, size, size_review, bright, color, thick]\nIndex: []",
      "text/html": "<div>\n<style scoped>\n    .dataframe tbody tr th:only-of-type {\n        vertical-align: middle;\n    }\n\n    .dataframe tbody tr th {\n        vertical-align: top;\n    }\n\n    .dataframe thead th {\n        text-align: right;\n    }\n</style>\n<table border=\"1\" class=\"dataframe\">\n  <thead>\n    <tr style=\"text-align: right;\">\n      <th></th>\n      <th>clothes_id</th>\n      <th>gender</th>\n      <th>height</th>\n      <th>weight</th>\n      <th>size</th>\n      <th>size_review</th>\n      <th>bright</th>\n      <th>color</th>\n      <th>thick</th>\n    </tr>\n  </thead>\n  <tbody>\n  </tbody>\n</table>\n</div>"
     },
     "execution_count": 58,
     "metadata": {},
     "output_type": "execute_result"
    }
   ],
   "source": [
    "review"
   ],
   "metadata": {
    "collapsed": false
   }
  },
  {
   "cell_type": "code",
   "execution_count": 164,
   "outputs": [],
   "source": [
    "############################################################\n",
    "#리뷰 크롤링\n",
    "############################################################\n",
    "def review_crawling2(reviewDf, clothesIdx, wd):\n",
    "    last = False\n",
    "    reviewIdx = 0\n",
    "    for jump in range(1, 3):\n",
    "        print(jump)\n",
    "        for page in range(1,6):\n",
    "            lastIdx = 1\n",
    "            print(\"page\", page)\n",
    "            for idx in range(1, 11):\n",
    "                print('idx', idx)\n",
    "                lastIdx = idx\n",
    "                try:\n",
    "                    text = wd.find_element(By.XPATH, '//*[@id=\"reviewListFragment\"]/div[%d]/div[1]/div/div[1]/p[1]'% idx).text\n",
    "                    print(text)\n",
    "                except:\n",
    "                    print(\"여기에요\")\n",
    "                    if(idx < 10):\n",
    "                        last = True\n",
    "                    break\n",
    "\n",
    "                # 성별, 키, 몸무게\n",
    "                try:\n",
    "                    user = wd.find_element(By.XPATH, '//*[@id=\"reviewListFragment\"]/div[%d]/div[1]/div/div[2]/p' % idx).text\n",
    "                except:\n",
    "                    continue\n",
    "\n",
    "                user = user.split(\",\")\n",
    "                print('user', user)\n",
    "                reGender = user[0]\n",
    "                height = user[1]\n",
    "                weight = user[2]\n",
    "                size = wd.find_element(By.XPATH, '//*[@id=\"reviewListFragment\"]/div[%d]/div[2]/div[2]/p/span' % idx).text\n",
    "                sizeReview = wd.find_element(By.XPATH, '//*[@id=\"reviewListFragment\"]/div[%d]/div[4]/div[2]/ul/li[1]/span' % idx).text\n",
    "                bright = wd.find_element(By.XPATH, '//*[@id=\"reviewListFragment\"]/div[%d]/div[4]/div[2]/ul/li[2]/span' % idx).text\n",
    "                color = wd.find_element(By.XPATH, '//*[@id=\"reviewListFragment\"]/div[%d]/div[4]/div[2]/ul/li[3]/span' % idx).text\n",
    "                thick = wd.find_element(By.XPATH, '//*[@id=\"reviewListFragment\"]/div[%d]/div[4]/div[2]/ul/li[4]/span' % idx).text\n",
    "\n",
    "                #\"clothes_id\", \"gender\", \"height\", \"weight\", \"size\", \"size_review\", \"bright\", \"color\", \"thick\"\n",
    "                reviewDf.loc[reviewIdx] = [clothesIdx, reGender, height, weight, size, sizeReview, bright, color, thick]\n",
    "                reviewIdx += 1\n",
    "            print(last)\n",
    "            if(last) :\n",
    "                break;\n",
    "            if(lastIdx < 10):\n",
    "                print('lastInx', 1, lastIdx)\n",
    "                pageNum = wd.find_element(By.XPATH, '//*[@id=\"reviewListFragment\"]/div[%d]/div[2]/div/a[%d]' % ((lastIdx), (page + 3))).text\n",
    "            else:\n",
    "                print('lastInx', 2, lastIdx)\n",
    "                pageNum = wd.find_element(By.XPATH, '//*[@id=\"reviewListFragment\"]/div[%d]/div[2]/div/a[%d]' % ((lastIdx+1), (page + 3))).text\n",
    "\n",
    "            if(pageNum.isdigit()):\n",
    "                wd.find_element(By.XPATH, '//*[@id=\"reviewListFragment\"]/div[%d]/div[2]/div/a[%d]' % ((lastIdx+1), (page + 3))).send_keys(Keys.ENTER)\n",
    "            elif (int(pageNum.isdigit()) - 1 < 8 ):\n",
    "                wd.find_element(By.XPATH, '//*[@id=\"reviewListFragment\"]/div[11]/div[2]/div/a[6]').send_keys(Keys.ENTER)\n",
    "        print(last)\n",
    "        if(last) :\n",
    "            break;\n",
    "\n",
    "\n",
    "\n",
    "    return reviewDf"
   ],
   "metadata": {
    "collapsed": false
   }
  },
  {
   "cell_type": "code",
   "execution_count": 45,
   "outputs": [
    {
     "name": "stdout",
     "output_type": "stream",
     "text": [
      "남 여 라이프\n"
     ]
    }
   ],
   "source": [
    "url = 'https://www.musinsa.com/app/goods/2232639/0'\n",
    "wd = webdriver.Chrome('chromedriver', options=chrome_options)\n",
    "wd.get(url)\n",
    "text = wd.find_element(By.XPATH, '//*[@id=\"product_order_info\"]/div[2]/ul/li[2]/p[2]/span').text\n",
    "print(text)"
   ],
   "metadata": {
    "collapsed": false
   }
  },
  {
   "cell_type": "code",
   "execution_count": null,
   "outputs": [],
   "source": [],
   "metadata": {
    "collapsed": false
   }
  }
 ],
 "metadata": {
  "kernelspec": {
   "display_name": "Python 3",
   "language": "python",
   "name": "python3"
  },
  "language_info": {
   "codemirror_mode": {
    "name": "ipython",
    "version": 2
   },
   "file_extension": ".py",
   "mimetype": "text/x-python",
   "name": "python",
   "nbconvert_exporter": "python",
   "pygments_lexer": "ipython2",
   "version": "2.7.6"
  }
 },
 "nbformat": 4,
 "nbformat_minor": 0
}
