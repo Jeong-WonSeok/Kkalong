{
 "cells": [
  {
   "cell_type": "code",
   "execution_count": 4,
   "outputs": [],
   "source": [
    "import pymysql\n",
    "from sqlalchemy import create_engine\n",
    "import sqlalchemy\n",
    "import numpy as np\n",
    "import pandas as pd\n",
    "from selenium import webdriver\n",
    "from selenium.webdriver.common.by import By\n",
    "from selenium.common.exceptions import NoSuchElementException\n",
    "from selenium.webdriver.common.desired_capabilities import DesiredCapabilities"
   ],
   "metadata": {
    "collapsed": false
   }
  },
  {
   "cell_type": "code",
   "execution_count": 6,
   "outputs": [],
   "source": [
    "\n",
    "caps = DesiredCapabilities().CHROME\n",
    "caps[\"pageLoadStrategy\"] = \"none\"\n",
    "chrome_options = webdriver.ChromeOptions()\n",
    "chrome_options.add_argument('--headless')\n",
    "chrome_options.add_argument('--no-sandbox')\n",
    "chrome_options.add_argument('--disable-dev-shm-usage')"
   ],
   "metadata": {
    "collapsed": false
   }
  },
  {
   "cell_type": "code",
   "execution_count": 3,
   "outputs": [],
   "source": [
    "def brands_scraping(brand, wd) :\n",
    "\n",
    "    url = 'https://www.musinsa.com/brands/%s' % brand\n",
    "    wd.get(url)\n",
    "    lastpage = wd.find_element(By.XPATH, '//*[@id=\"product_list\"]/div[1]/div[1]/div[2]/div[4]/span/span[1]').text\n",
    "    lastpage = int(lastpage);\n",
    "\n",
    "    for page in (1, lastpage + 1):\n",
    "        page_url = 'https://www.musinsa.com/brands/%s?category3DepthCodes=&category2DepthCodes=&category1DepthCode=&colorCodes=&startPrice=&endPrice=&exclusiveYn=&includeSoldOut=&saleGoods=&timeSale=&includeKeywords=&sortCode=NEW&tags=&page=%d&size=90&listViewType=small&campaignCode=&groupSale=&outletGoods=false&boutiqueGoods=' % (brand, page)\n",
    "        for i in range(1, 91):\n",
    "            # try:\n",
    "            wd.get(page_url)\n",
    "            print(i)\n",
    "            xpath = '//*[@id=\"searchList\"]/li[%d]/div[4]/div[2]/p[2]/a' % i\n",
    "            print(xpath)\n",
    "            items_url = wd.find_element(By.XPATH, xpath).get_attribute('href')\n",
    "            wd.get(items_url)\n",
    "            print(items_url)\n",
    "            text = wd.find_element(By.XPATH, '//*[@id=\"page_product_detail\"]/div[3]/div[3]/span/em').text\n",
    "            print(text)\n",
    "            # except:\n",
    "            #     continue\n",
    "\n",
    "    return"
   ],
   "metadata": {
    "collapsed": false
   }
  },
  {
   "cell_type": "code",
   "execution_count": 4,
   "outputs": [],
   "source": [
    "def musinsa_scraping():\n",
    "    wd = webdriver.Chrome('chromedriver', options=chrome_options)\n",
    "    wd.implicitly_wait(3)\n",
    "\n",
    "    url = 'https://www.musinsa.com/brands'\n",
    "    brands_scraping('yale', wd)"
   ],
   "metadata": {
    "collapsed": false
   }
  },
  {
   "cell_type": "code",
   "execution_count": 36,
   "outputs": [],
   "source": [
    "def cody_scraping():\n",
    "    wd = webdriver.Chrome('chromedriver', options=chrome_options)\n",
    "    wd.implicitly_wait(3)\n",
    "    codyDf = pd.DataFrame(columns={\"cody_category\"})\n",
    "    clothesDf = pd.DataFrame(columns=(\"cody_id\", \"clothes_maincategory\", \"clothes_subcategorry\", \"brand\", \"color\", \"season\", \"gender\",\n",
    "                                        \"spring\", \"summer\", \"autumn\", \"winter\", \"img\"))\n",
    "    reviewDf = pd.DataFrame(columns=(\"clothes_id\", \"gender\", \"height\", \"weight\", \"size\", \"size_review\", \"bright\", \"color\", \"thick\"))\n",
    "\n",
    "    codyCategory = [\"americancasual\", \"casual\", \"chic\", \"dandy\", \"formal\", \"girlish\", \"golf\", \"retro\", \"romantic\", \"sports\", \"street\"]\n",
    "    codyIdx = 0;\n",
    "    clothesIdx = 0;\n",
    "    for category in codyCategory:\n",
    "        for i in range(1, 2): #3\n",
    "            url = \"https://www.musinsa.com/app/styles/lists?use_yn_360=&style_type=%s&brand=&model=&tag_no=&max_rt=&min_rt=&display_cnt=60&list_kind=big&sort=view_cnt&page=%d\" % (category, i)\n",
    "            for j in range(1, 2): #61\n",
    "                wd.get(url)\n",
    "                wd.find_element(By.XPATH, \"/html/body/div[3]/div[3]/form/div[4]/div/ul/li[%d]/div[1]/a\" % j).click()\n",
    "                codyDf.loc[codyIdx] = [category]\n",
    "                codyIdx += 1\n",
    "                ###################################################\n",
    "                # 옷 정보 크롤링\n",
    "                ###################################################\n",
    "                for info in range(1, 11):\n",
    "                    # try:\n",
    "                    info_url = wd.find_element(By.XPATH, '//*[@id=\"style_info\"]/div[3]/div[2]/div/div/div[1]/div[%d]/div[1]/a'%info).get_attribute('href')\n",
    "                    wd.get(info_url)\n",
    "                    print(wd.find_element(By.XPATH, '//*[@id=\"page_product_detail\"]/div[3]/div[3]/span/em').text)\n",
    "                    clothesMaincategory = wd.find_element(By.XPATH,'//*[@id=\"page_product_detail\"]/div[3]/div[3]/div[1]/p/a[1]').text\n",
    "                    clothesSubCategory = wd.find_element(By.XPATH, '//*[@id=\"page_product_detail\"]/div[3]/div[3]/div[1]/p/a[2]').text\n",
    "                    check = wd.find_element(By.XPATH, '//*[@id=\"product_order_info\"]/div[1]/h4').text\n",
    "                    img = wd.find_element(By.XPATH, '//*[@id=\"bigimg\"]').get_attribute('src')\n",
    "\n",
    "                    if(check == \"Product Info제품정보\"):\n",
    "                        brand = wd.find_element(By.XPATH, '//*[@id=\"product_order_info\"]/div[1]/ul/li[1]/p[2]/strong/a').text\n",
    "                        print('brand', brand, type(brand))\n",
    "                        try:\n",
    "                            season = wd.find_element(By.XPATH, '//*[@id=\"product_order_info\"]/div[1]/ul/li[2]/p[2]/strong').text\n",
    "                        except:\n",
    "                            season = 0\n",
    "                        print('season', season, type(season))\n",
    "                        if(season == 0):\n",
    "                            gender = wd.find_element(By.XPATH, '//*[@id=\"product_order_info\"]/div[1]/ul/li[2]/p[2]/span').text\n",
    "                        else:\n",
    "                            gender = wd.find_element(By.XPATH, '//*[@id=\"product_order_info\"]/div[1]/ul/li[2]/p[2]/span[2]').text\n",
    "                    else:\n",
    "                        print(2)\n",
    "                        brand = wd.find_element(By.XPATH, '//*[@id=\"product_order_info\"]/div[2]/ul/li[1]/p[2]/strong/a').text\n",
    "                        print('brand', brand ,type(brand))\n",
    "                        try:\n",
    "                            season = wd.find_element(By.XPATH, '//*[@id=\"product_order_info\"]/div[2]/ul/li[2]/p[2]/strong').text\n",
    "                        except:\n",
    "                            season = 0\n",
    "                        print('season', season, type(season))\n",
    "                        print(np.isnan(season))\n",
    "                        if(season == 0):\n",
    "                            gender = wd.find_element(By.XPATH, '//*[@id=\"product_order_info\"]/div[2]/ul/li[2]/p[2]/span').text\n",
    "                        else:\n",
    "                            gender = wd.find_element(By.XPATH, '//*[@id=\"product_order_info\"]/div[2]/ul/li[2]/p[2]/span[2]').text\n",
    "                        print('gender', gender, type(gender))\n",
    "                    # clothes_maincategory clothes_subcategorry  summer autumn spring  gender brand cody_id color season winter\n",
    "                    clothesDf.loc[clothesIdx] = [(codyIdx-1), clothesMaincategory, clothesSubCategory, brand, np.nan, season, gender,\n",
    "                                                 np.nan, np.nan, np.nan, np.nan, img]\n",
    "\n",
    "                    ############################################################\n",
    "                    #리뷰 크롤링\n",
    "                    ############################################################\n",
    "                    last = False\n",
    "                    reviewIdx = 0\n",
    "                    for i in range(1, 3):\n",
    "                        for page in range(1,6):\n",
    "                            for idx in range(1, 11):\n",
    "                                # 성별, 키, 몸무게\n",
    "                                user = wd.find_element(By.XPATH, '//*[@id=\"reviewListFragment\"]/div[%d]/div[1]/div/div[2]/p' % idx).text\n",
    "                                # user = user.split(\",\")\n",
    "                                print('user', user)\n",
    "                                reGender = user[0]\n",
    "                                height = user[1]\n",
    "                                weight = user[2]\n",
    "                                size = wd.find_element(By.XPATH, '//*[@id=\"reviewListFragment\"]/div[%d]/div[2]/div[2]/p/span' % idx).text\n",
    "                                sizeReview = wd.find_element(By.XPATH, '//*[@id=\"reviewListFragment\"]/div[%d]/div[4]/div[2]/ul/li[1]/span % idx' % idx).text\n",
    "                                bright = wd.find_element(By.XPATH, '//*[@id=\"reviewListFragment\"]/div[%d]/div[4]/div[2]/ul/li[2]/span % idx' % idx).text\n",
    "                                color = wd.find_element(By.XPATH, '//*[@id=\"reviewListFragment\"]/div[%d]/div[4]/div[2]/ul/li[3]/span % idx' % idx).text\n",
    "                                thick = wd.find_element(By.XPATH, '//*[@id=\"reviewListFragment\"]/div[%d]/div[4]/div[2]/ul/li[4]/span % idx' % idx).text\n",
    "\n",
    "                                #\"clothes_id\", \"gender\", \"height\", \"weight\", \"size\", \"size_review\", \"bright\", \"color\", \"thick\"\n",
    "                                reviewDf.loc[reviewIdx] = [clothesIdx, reGender, height, weight, size, sizeReview, bright, color, thick]\n",
    "                                print(reviewDf.loc[reviewIdx])\n",
    "                                reviewIdx += 1\n",
    "                            pageNum = wd.find_element(By.XPATH, '//*[@id=\"qPage\"]/div/div/a[%d]' % page + 2).text\n",
    "                            if(pageNum.isdigit()):\n",
    "                                wd.find_element(By.XPATH, '//*[@id=\"qPage\"]/div/div/a[%d]' % page + 2).click()\n",
    "                            else:\n",
    "                                last = True\n",
    "                            if(last) :\n",
    "                                break\n",
    "                        if(last) :\n",
    "                            break\n",
    "                        wd.find_element(By.XPATH)\n",
    "                    clothesIdx += 1\n",
    "\n",
    "                    wd.back()\n",
    "                    # except:\n",
    "                    #     break\n",
    "            # print(codyDf.tail())\n",
    "    return codyDf, clothesDf, reviewDf"
   ],
   "metadata": {
    "collapsed": false
   }
  },
  {
   "cell_type": "code",
   "execution_count": 38,
   "outputs": [
    {
     "name": "stdout",
     "output_type": "stream",
     "text": [
      "[3M 신슐레이트] 코듀로이 칼라 다운 퀄팅 자켓_Brown\n",
      "2\n",
      "brand  <class 'str'>\n",
      "season 0 <class 'int'>\n",
      "False\n",
      "gender  <class 'str'>\n",
      "user \n"
     ]
    },
    {
     "ename": "IndexError",
     "evalue": "string index out of range",
     "output_type": "error",
     "traceback": [
      "\u001B[1;31m---------------------------------------------------------------------------\u001B[0m",
      "\u001B[1;31mIndexError\u001B[0m                                Traceback (most recent call last)",
      "\u001B[1;32m~\\AppData\\Local\\Temp\\ipykernel_20428\\107723140.py\u001B[0m in \u001B[0;36m<module>\u001B[1;34m\u001B[0m\n\u001B[1;32m----> 1\u001B[1;33m \u001B[0mcody\u001B[0m\u001B[1;33m,\u001B[0m \u001B[0mdf\u001B[0m \u001B[1;33m=\u001B[0m \u001B[0mcody_scraping\u001B[0m\u001B[1;33m(\u001B[0m\u001B[1;33m)\u001B[0m\u001B[1;33m\u001B[0m\u001B[1;33m\u001B[0m\u001B[0m\n\u001B[0m",
      "\u001B[1;32m~\\AppData\\Local\\Temp\\ipykernel_20428\\1740291321.py\u001B[0m in \u001B[0;36mcody_scraping\u001B[1;34m()\u001B[0m\n\u001B[0;32m     73\u001B[0m                                 \u001B[1;31m# user = user.split(\",\")\u001B[0m\u001B[1;33m\u001B[0m\u001B[1;33m\u001B[0m\u001B[1;33m\u001B[0m\u001B[0m\n\u001B[0;32m     74\u001B[0m                                 \u001B[0mprint\u001B[0m\u001B[1;33m(\u001B[0m\u001B[1;34m'user'\u001B[0m\u001B[1;33m,\u001B[0m \u001B[0muser\u001B[0m\u001B[1;33m)\u001B[0m\u001B[1;33m\u001B[0m\u001B[1;33m\u001B[0m\u001B[0m\n\u001B[1;32m---> 75\u001B[1;33m                                 \u001B[0mreGender\u001B[0m \u001B[1;33m=\u001B[0m \u001B[0muser\u001B[0m\u001B[1;33m[\u001B[0m\u001B[1;36m0\u001B[0m\u001B[1;33m]\u001B[0m\u001B[1;33m\u001B[0m\u001B[1;33m\u001B[0m\u001B[0m\n\u001B[0m\u001B[0;32m     76\u001B[0m                                 \u001B[0mheight\u001B[0m \u001B[1;33m=\u001B[0m \u001B[0muser\u001B[0m\u001B[1;33m[\u001B[0m\u001B[1;36m1\u001B[0m\u001B[1;33m]\u001B[0m\u001B[1;33m\u001B[0m\u001B[1;33m\u001B[0m\u001B[0m\n\u001B[0;32m     77\u001B[0m                                 \u001B[0mweight\u001B[0m \u001B[1;33m=\u001B[0m \u001B[0muser\u001B[0m\u001B[1;33m[\u001B[0m\u001B[1;36m2\u001B[0m\u001B[1;33m]\u001B[0m\u001B[1;33m\u001B[0m\u001B[1;33m\u001B[0m\u001B[0m\n",
      "\u001B[1;31mIndexError\u001B[0m: string index out of range"
     ]
    }
   ],
   "source": [
    "cody, df = cody_scraping()"
   ],
   "metadata": {
    "collapsed": false
   }
  },
  {
   "cell_type": "code",
   "execution_count": 65,
   "outputs": [
    {
     "data": {
      "text/plain": "1"
     },
     "execution_count": 65,
     "metadata": {},
     "output_type": "execute_result"
    }
   ],
   "source": [],
   "metadata": {
    "collapsed": false
   }
  },
  {
   "cell_type": "code",
   "execution_count": 63,
   "outputs": [
    {
     "data": {
      "text/plain": "   cody_id clothes_maincategory clothes_subcategorry              brand color  \\\n0        0                  아우터               기타 아우터       LAFUDGESTORE   NaN   \n1        0                   바지                코튼 팬츠        BEARDED KID   NaN   \n2        0                   모자              캡/야구 모자       UNDERCONTROL   NaN   \n3        0                  주얼리              목걸이/펜던트            QUARQOR   NaN   \n4        0                 스니커즈               캔버스/단화            NOVESTA   NaN   \n5        1                  아우터               트러커 재킷            DAYDARE   NaN   \n6        1                   바지                데님 팬츠             TOFFEE   NaN   \n7        1                 스니커즈               캔버스/단화               VANS   NaN   \n8        2                  아우터             겨울 싱글 코트   MUSINSA STANDARD   NaN   \n9        2                   모자              캡/야구 모자                MLB   NaN   \n10       2                  주얼리              목걸이/펜던트          LAYERMOOD   NaN   \n11       4                  아우터             겨울 더블 코트   MUSINSA STANDARD   NaN   \n12       4                  아우터           슈트/블레이저 재킷   MUSINSA STANDARD   NaN   \n13       4                   상의              긴소매 티셔츠   MUSINSA STANDARD   NaN   \n14       4                   바지            슈트 팬츠/슬랙스   MUSINSA STANDARD   NaN   \n15       5                 스니커즈               캔버스/단화               VANS   NaN   \n16       6                  아우터          숏패딩/숏헤비 아우터  LAFUDGE FOR WOMAN   NaN   \n17       6                   상의               니트/스웨터              VOKEN   NaN   \n18       6                  스커트                미니스커트              VOKEN   NaN   \n19       6               스포츠/용품                스포츠잡화           MLB GOLF   NaN   \n20       6              양말/레그웨어                   양말               REXY   NaN   \n21       6                 스니커즈               캔버스/단화          MIX MCCOY   NaN   \n22       7                  아우터                후드 집업          ODDONEOUT   NaN   \n23       7                   상의              긴소매 티셔츠           SCULPTOR   NaN   \n24       7                   바지           트레이닝/조거 팬츠           SCULPTOR   NaN   \n25       7                  주얼리              목걸이/펜던트        MERRYMOTIVE   NaN   \n26       7                여성 가방                  숄더백            CURRENT   NaN   \n27       7                 스니커즈               캔버스/단화           CONVERSE   NaN   \n28      10                  아우터               트러커 재킷    THISISNEVERTHAT   NaN   \n29      10                   바지                데님 팬츠             TOFFEE   NaN   \n30      10                   가방                   백팩    THISISNEVERTHAT   NaN   \n31      10                 스니커즈               캔버스/단화               VANS   NaN   \n\n      season   gender spring summer autumn winter  \n0          0  남 여 라이프    NaN    NaN    NaN    NaN  \n1   2022 F/W        남    NaN    NaN    NaN    NaN  \n2   2021 ALL      남 여    NaN    NaN    NaN    NaN  \n3          0             NaN    NaN    NaN    NaN  \n4          0      남 여    NaN    NaN    NaN    NaN  \n5          0        남    NaN    NaN    NaN    NaN  \n6   2021 ALL        남    NaN    NaN    NaN    NaN  \n7        ALL      남 여    NaN    NaN    NaN    NaN  \n8          0        여    NaN    NaN    NaN    NaN  \n9    ALL ALL      남 여    NaN    NaN    NaN    NaN  \n10  2020 ALL        여    NaN    NaN    NaN    NaN  \n11         0        남    NaN    NaN    NaN    NaN  \n12         0        남    NaN    NaN    NaN    NaN  \n13         0        남    NaN    NaN    NaN    NaN  \n14         0        남    NaN    NaN    NaN    NaN  \n15       ALL      남 여    NaN    NaN    NaN    NaN  \n16  2021 F/W        여    NaN    NaN    NaN    NaN  \n17  2021 F/W        여    NaN    NaN    NaN    NaN  \n18  2021 F/W        여    NaN    NaN    NaN    NaN  \n19  2020 ALL        남    NaN    NaN    NaN    NaN  \n20  2020 ALL        여    NaN    NaN    NaN    NaN  \n21  2021 ALL      남 여    NaN    NaN    NaN    NaN  \n22  2021 S/S        여    NaN    NaN    NaN    NaN  \n23  2021 S/S        여    NaN    NaN    NaN    NaN  \n24  2021 S/S        여    NaN    NaN    NaN    NaN  \n25  2020 ALL        여    NaN    NaN    NaN    NaN  \n26  2021 ALL        여    NaN    NaN    NaN    NaN  \n27  2021 ALL      남 여    NaN    NaN    NaN    NaN  \n28         0        남    NaN    NaN    NaN    NaN  \n29  2021 ALL        남    NaN    NaN    NaN    NaN  \n30  2019 ALL        남    NaN    NaN    NaN    NaN  \n31       ALL      남 여    NaN    NaN    NaN    NaN  ",
      "text/html": "<div>\n<style scoped>\n    .dataframe tbody tr th:only-of-type {\n        vertical-align: middle;\n    }\n\n    .dataframe tbody tr th {\n        vertical-align: top;\n    }\n\n    .dataframe thead th {\n        text-align: right;\n    }\n</style>\n<table border=\"1\" class=\"dataframe\">\n  <thead>\n    <tr style=\"text-align: right;\">\n      <th></th>\n      <th>cody_id</th>\n      <th>clothes_maincategory</th>\n      <th>clothes_subcategorry</th>\n      <th>brand</th>\n      <th>color</th>\n      <th>season</th>\n      <th>gender</th>\n      <th>spring</th>\n      <th>summer</th>\n      <th>autumn</th>\n      <th>winter</th>\n    </tr>\n  </thead>\n  <tbody>\n    <tr>\n      <th>0</th>\n      <td>0</td>\n      <td>아우터</td>\n      <td>기타 아우터</td>\n      <td>LAFUDGESTORE</td>\n      <td>NaN</td>\n      <td>0</td>\n      <td>남 여 라이프</td>\n      <td>NaN</td>\n      <td>NaN</td>\n      <td>NaN</td>\n      <td>NaN</td>\n    </tr>\n    <tr>\n      <th>1</th>\n      <td>0</td>\n      <td>바지</td>\n      <td>코튼 팬츠</td>\n      <td>BEARDED KID</td>\n      <td>NaN</td>\n      <td>2022 F/W</td>\n      <td>남</td>\n      <td>NaN</td>\n      <td>NaN</td>\n      <td>NaN</td>\n      <td>NaN</td>\n    </tr>\n    <tr>\n      <th>2</th>\n      <td>0</td>\n      <td>모자</td>\n      <td>캡/야구 모자</td>\n      <td>UNDERCONTROL</td>\n      <td>NaN</td>\n      <td>2021 ALL</td>\n      <td>남 여</td>\n      <td>NaN</td>\n      <td>NaN</td>\n      <td>NaN</td>\n      <td>NaN</td>\n    </tr>\n    <tr>\n      <th>3</th>\n      <td>0</td>\n      <td>주얼리</td>\n      <td>목걸이/펜던트</td>\n      <td>QUARQOR</td>\n      <td>NaN</td>\n      <td>0</td>\n      <td></td>\n      <td>NaN</td>\n      <td>NaN</td>\n      <td>NaN</td>\n      <td>NaN</td>\n    </tr>\n    <tr>\n      <th>4</th>\n      <td>0</td>\n      <td>스니커즈</td>\n      <td>캔버스/단화</td>\n      <td>NOVESTA</td>\n      <td>NaN</td>\n      <td>0</td>\n      <td>남 여</td>\n      <td>NaN</td>\n      <td>NaN</td>\n      <td>NaN</td>\n      <td>NaN</td>\n    </tr>\n    <tr>\n      <th>5</th>\n      <td>1</td>\n      <td>아우터</td>\n      <td>트러커 재킷</td>\n      <td>DAYDARE</td>\n      <td>NaN</td>\n      <td>0</td>\n      <td>남</td>\n      <td>NaN</td>\n      <td>NaN</td>\n      <td>NaN</td>\n      <td>NaN</td>\n    </tr>\n    <tr>\n      <th>6</th>\n      <td>1</td>\n      <td>바지</td>\n      <td>데님 팬츠</td>\n      <td>TOFFEE</td>\n      <td>NaN</td>\n      <td>2021 ALL</td>\n      <td>남</td>\n      <td>NaN</td>\n      <td>NaN</td>\n      <td>NaN</td>\n      <td>NaN</td>\n    </tr>\n    <tr>\n      <th>7</th>\n      <td>1</td>\n      <td>스니커즈</td>\n      <td>캔버스/단화</td>\n      <td>VANS</td>\n      <td>NaN</td>\n      <td>ALL</td>\n      <td>남 여</td>\n      <td>NaN</td>\n      <td>NaN</td>\n      <td>NaN</td>\n      <td>NaN</td>\n    </tr>\n    <tr>\n      <th>8</th>\n      <td>2</td>\n      <td>아우터</td>\n      <td>겨울 싱글 코트</td>\n      <td>MUSINSA STANDARD</td>\n      <td>NaN</td>\n      <td>0</td>\n      <td>여</td>\n      <td>NaN</td>\n      <td>NaN</td>\n      <td>NaN</td>\n      <td>NaN</td>\n    </tr>\n    <tr>\n      <th>9</th>\n      <td>2</td>\n      <td>모자</td>\n      <td>캡/야구 모자</td>\n      <td>MLB</td>\n      <td>NaN</td>\n      <td>ALL ALL</td>\n      <td>남 여</td>\n      <td>NaN</td>\n      <td>NaN</td>\n      <td>NaN</td>\n      <td>NaN</td>\n    </tr>\n    <tr>\n      <th>10</th>\n      <td>2</td>\n      <td>주얼리</td>\n      <td>목걸이/펜던트</td>\n      <td>LAYERMOOD</td>\n      <td>NaN</td>\n      <td>2020 ALL</td>\n      <td>여</td>\n      <td>NaN</td>\n      <td>NaN</td>\n      <td>NaN</td>\n      <td>NaN</td>\n    </tr>\n    <tr>\n      <th>11</th>\n      <td>4</td>\n      <td>아우터</td>\n      <td>겨울 더블 코트</td>\n      <td>MUSINSA STANDARD</td>\n      <td>NaN</td>\n      <td>0</td>\n      <td>남</td>\n      <td>NaN</td>\n      <td>NaN</td>\n      <td>NaN</td>\n      <td>NaN</td>\n    </tr>\n    <tr>\n      <th>12</th>\n      <td>4</td>\n      <td>아우터</td>\n      <td>슈트/블레이저 재킷</td>\n      <td>MUSINSA STANDARD</td>\n      <td>NaN</td>\n      <td>0</td>\n      <td>남</td>\n      <td>NaN</td>\n      <td>NaN</td>\n      <td>NaN</td>\n      <td>NaN</td>\n    </tr>\n    <tr>\n      <th>13</th>\n      <td>4</td>\n      <td>상의</td>\n      <td>긴소매 티셔츠</td>\n      <td>MUSINSA STANDARD</td>\n      <td>NaN</td>\n      <td>0</td>\n      <td>남</td>\n      <td>NaN</td>\n      <td>NaN</td>\n      <td>NaN</td>\n      <td>NaN</td>\n    </tr>\n    <tr>\n      <th>14</th>\n      <td>4</td>\n      <td>바지</td>\n      <td>슈트 팬츠/슬랙스</td>\n      <td>MUSINSA STANDARD</td>\n      <td>NaN</td>\n      <td>0</td>\n      <td>남</td>\n      <td>NaN</td>\n      <td>NaN</td>\n      <td>NaN</td>\n      <td>NaN</td>\n    </tr>\n    <tr>\n      <th>15</th>\n      <td>5</td>\n      <td>스니커즈</td>\n      <td>캔버스/단화</td>\n      <td>VANS</td>\n      <td>NaN</td>\n      <td>ALL</td>\n      <td>남 여</td>\n      <td>NaN</td>\n      <td>NaN</td>\n      <td>NaN</td>\n      <td>NaN</td>\n    </tr>\n    <tr>\n      <th>16</th>\n      <td>6</td>\n      <td>아우터</td>\n      <td>숏패딩/숏헤비 아우터</td>\n      <td>LAFUDGE FOR WOMAN</td>\n      <td>NaN</td>\n      <td>2021 F/W</td>\n      <td>여</td>\n      <td>NaN</td>\n      <td>NaN</td>\n      <td>NaN</td>\n      <td>NaN</td>\n    </tr>\n    <tr>\n      <th>17</th>\n      <td>6</td>\n      <td>상의</td>\n      <td>니트/스웨터</td>\n      <td>VOKEN</td>\n      <td>NaN</td>\n      <td>2021 F/W</td>\n      <td>여</td>\n      <td>NaN</td>\n      <td>NaN</td>\n      <td>NaN</td>\n      <td>NaN</td>\n    </tr>\n    <tr>\n      <th>18</th>\n      <td>6</td>\n      <td>스커트</td>\n      <td>미니스커트</td>\n      <td>VOKEN</td>\n      <td>NaN</td>\n      <td>2021 F/W</td>\n      <td>여</td>\n      <td>NaN</td>\n      <td>NaN</td>\n      <td>NaN</td>\n      <td>NaN</td>\n    </tr>\n    <tr>\n      <th>19</th>\n      <td>6</td>\n      <td>스포츠/용품</td>\n      <td>스포츠잡화</td>\n      <td>MLB GOLF</td>\n      <td>NaN</td>\n      <td>2020 ALL</td>\n      <td>남</td>\n      <td>NaN</td>\n      <td>NaN</td>\n      <td>NaN</td>\n      <td>NaN</td>\n    </tr>\n    <tr>\n      <th>20</th>\n      <td>6</td>\n      <td>양말/레그웨어</td>\n      <td>양말</td>\n      <td>REXY</td>\n      <td>NaN</td>\n      <td>2020 ALL</td>\n      <td>여</td>\n      <td>NaN</td>\n      <td>NaN</td>\n      <td>NaN</td>\n      <td>NaN</td>\n    </tr>\n    <tr>\n      <th>21</th>\n      <td>6</td>\n      <td>스니커즈</td>\n      <td>캔버스/단화</td>\n      <td>MIX MCCOY</td>\n      <td>NaN</td>\n      <td>2021 ALL</td>\n      <td>남 여</td>\n      <td>NaN</td>\n      <td>NaN</td>\n      <td>NaN</td>\n      <td>NaN</td>\n    </tr>\n    <tr>\n      <th>22</th>\n      <td>7</td>\n      <td>아우터</td>\n      <td>후드 집업</td>\n      <td>ODDONEOUT</td>\n      <td>NaN</td>\n      <td>2021 S/S</td>\n      <td>여</td>\n      <td>NaN</td>\n      <td>NaN</td>\n      <td>NaN</td>\n      <td>NaN</td>\n    </tr>\n    <tr>\n      <th>23</th>\n      <td>7</td>\n      <td>상의</td>\n      <td>긴소매 티셔츠</td>\n      <td>SCULPTOR</td>\n      <td>NaN</td>\n      <td>2021 S/S</td>\n      <td>여</td>\n      <td>NaN</td>\n      <td>NaN</td>\n      <td>NaN</td>\n      <td>NaN</td>\n    </tr>\n    <tr>\n      <th>24</th>\n      <td>7</td>\n      <td>바지</td>\n      <td>트레이닝/조거 팬츠</td>\n      <td>SCULPTOR</td>\n      <td>NaN</td>\n      <td>2021 S/S</td>\n      <td>여</td>\n      <td>NaN</td>\n      <td>NaN</td>\n      <td>NaN</td>\n      <td>NaN</td>\n    </tr>\n    <tr>\n      <th>25</th>\n      <td>7</td>\n      <td>주얼리</td>\n      <td>목걸이/펜던트</td>\n      <td>MERRYMOTIVE</td>\n      <td>NaN</td>\n      <td>2020 ALL</td>\n      <td>여</td>\n      <td>NaN</td>\n      <td>NaN</td>\n      <td>NaN</td>\n      <td>NaN</td>\n    </tr>\n    <tr>\n      <th>26</th>\n      <td>7</td>\n      <td>여성 가방</td>\n      <td>숄더백</td>\n      <td>CURRENT</td>\n      <td>NaN</td>\n      <td>2021 ALL</td>\n      <td>여</td>\n      <td>NaN</td>\n      <td>NaN</td>\n      <td>NaN</td>\n      <td>NaN</td>\n    </tr>\n    <tr>\n      <th>27</th>\n      <td>7</td>\n      <td>스니커즈</td>\n      <td>캔버스/단화</td>\n      <td>CONVERSE</td>\n      <td>NaN</td>\n      <td>2021 ALL</td>\n      <td>남 여</td>\n      <td>NaN</td>\n      <td>NaN</td>\n      <td>NaN</td>\n      <td>NaN</td>\n    </tr>\n    <tr>\n      <th>28</th>\n      <td>10</td>\n      <td>아우터</td>\n      <td>트러커 재킷</td>\n      <td>THISISNEVERTHAT</td>\n      <td>NaN</td>\n      <td>0</td>\n      <td>남</td>\n      <td>NaN</td>\n      <td>NaN</td>\n      <td>NaN</td>\n      <td>NaN</td>\n    </tr>\n    <tr>\n      <th>29</th>\n      <td>10</td>\n      <td>바지</td>\n      <td>데님 팬츠</td>\n      <td>TOFFEE</td>\n      <td>NaN</td>\n      <td>2021 ALL</td>\n      <td>남</td>\n      <td>NaN</td>\n      <td>NaN</td>\n      <td>NaN</td>\n      <td>NaN</td>\n    </tr>\n    <tr>\n      <th>30</th>\n      <td>10</td>\n      <td>가방</td>\n      <td>백팩</td>\n      <td>THISISNEVERTHAT</td>\n      <td>NaN</td>\n      <td>2019 ALL</td>\n      <td>남</td>\n      <td>NaN</td>\n      <td>NaN</td>\n      <td>NaN</td>\n      <td>NaN</td>\n    </tr>\n    <tr>\n      <th>31</th>\n      <td>10</td>\n      <td>스니커즈</td>\n      <td>캔버스/단화</td>\n      <td>VANS</td>\n      <td>NaN</td>\n      <td>ALL</td>\n      <td>남 여</td>\n      <td>NaN</td>\n      <td>NaN</td>\n      <td>NaN</td>\n      <td>NaN</td>\n    </tr>\n  </tbody>\n</table>\n</div>"
     },
     "execution_count": 63,
     "metadata": {},
     "output_type": "execute_result"
    }
   ],
   "source": [
    "df"
   ],
   "metadata": {
    "collapsed": false
   }
  }
 ],
 "metadata": {
  "kernelspec": {
   "display_name": "Python 3",
   "language": "python",
   "name": "python3"
  },
  "language_info": {
   "codemirror_mode": {
    "name": "ipython",
    "version": 2
   },
   "file_extension": ".py",
   "mimetype": "text/x-python",
   "name": "python",
   "nbconvert_exporter": "python",
   "pygments_lexer": "ipython2",
   "version": "2.7.6"
  }
 },
 "nbformat": 4,
 "nbformat_minor": 0
}
