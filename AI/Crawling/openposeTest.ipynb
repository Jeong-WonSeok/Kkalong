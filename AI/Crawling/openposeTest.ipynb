{
 "cells": [
  {
   "cell_type": "code",
   "execution_count": 9,
   "metadata": {
    "collapsed": true
   },
   "outputs": [
    {
     "name": "stdout",
     "output_type": "stream",
     "text": [
      "[0, 1]\n"
     ]
    },
    {
     "ename": "TypeError",
     "evalue": "list indices must be integers or slices, not str",
     "output_type": "error",
     "traceback": [
      "\u001B[1;31m---------------------------------------------------------------------------\u001B[0m",
      "\u001B[1;31mTypeError\u001B[0m                                 Traceback (most recent call last)",
      "\u001B[1;32m~\\AppData\\Local\\Temp\\ipykernel_4512\\3046260207.py\u001B[0m in \u001B[0;36m<module>\u001B[1;34m\u001B[0m\n\u001B[0;32m     68\u001B[0m     \u001B[0mpartB\u001B[0m \u001B[1;33m=\u001B[0m \u001B[0mpair\u001B[0m\u001B[1;33m[\u001B[0m\u001B[1;36m1\u001B[0m\u001B[1;33m]\u001B[0m  \u001B[1;31m# Neck\u001B[0m\u001B[1;33m\u001B[0m\u001B[1;33m\u001B[0m\u001B[0m\n\u001B[0;32m     69\u001B[0m     \u001B[0mpartB\u001B[0m \u001B[1;33m=\u001B[0m \u001B[0mBODY_PARTS\u001B[0m\u001B[1;33m[\u001B[0m\u001B[0mpartB\u001B[0m\u001B[1;33m]\u001B[0m  \u001B[1;31m# 1\u001B[0m\u001B[1;33m\u001B[0m\u001B[1;33m\u001B[0m\u001B[0m\n\u001B[1;32m---> 70\u001B[1;33m     \u001B[0mprint\u001B[0m\u001B[1;33m(\u001B[0m\u001B[0mpoints\u001B[0m\u001B[1;33m[\u001B[0m\u001B[0mpartA\u001B[0m\u001B[1;33m]\u001B[0m\u001B[1;33m)\u001B[0m\u001B[1;33m\u001B[0m\u001B[1;33m\u001B[0m\u001B[0m\n\u001B[0m\u001B[0;32m     71\u001B[0m     \u001B[0mprint\u001B[0m\u001B[1;33m(\u001B[0m\u001B[0mpoints\u001B[0m\u001B[1;33m[\u001B[0m\u001B[0mpartB\u001B[0m\u001B[1;33m]\u001B[0m\u001B[1;33m)\u001B[0m\u001B[1;33m\u001B[0m\u001B[1;33m\u001B[0m\u001B[0m\n\u001B[0;32m     72\u001B[0m     \u001B[1;31m# print(partA,\" 와 \", partB, \" 연결\\n\")\u001B[0m\u001B[1;33m\u001B[0m\u001B[1;33m\u001B[0m\u001B[1;33m\u001B[0m\u001B[0m\n",
      "\u001B[1;31mTypeError\u001B[0m: list indices must be integers or slices, not str"
     ]
    }
   ],
   "source": [
    "import cv2\n",
    "\n",
    "# 관절 번호: 머리는 0, 목은 1 등등\n",
    "BODY_PARTS = {0: \"Nose\", 1: \"Neck\", 2: \"RShoulder\", 3: \"RElbow\", 4: \"RWrist\",\n",
    "                      5: \"LShoulder\", 6: \"LElbow\", 7: \"LWrist\", 8: \"MidHip\", 9: \"RHip\",\n",
    "                      10: \"RKnee\", 11: \"RAnkle\", 12: \"LHip\", 13: \"LKnee\", 14: \"LAnkle\",\n",
    "                      15: \"REye\", 16: \"LEye\", 17: \"REar\", 18: \"LEar\", 19: \"LBigToe\",\n",
    "                      20: \"LSmallToe\", 21: \"LHeel\", 22: \"RBigToe\", 23: \"RSmallToe\", 24: \"RHeel\", 25: \"Background\"}\n",
    "\n",
    "POSE_PAIRS = [[0, 1], [0, 15], [0, 16], [1, 2], [1, 5], [1, 8], [8, 9], [8, 12], [9, 10], [12, 13], [2, 3],\n",
    "                      [3, 4], [5, 6], [6, 7], [10, 11], [13, 14], [15, 17], [16, 18], [14, 21], [19, 21], [20, 21],\n",
    "                      [11, 24], [22, 24], [23, 24]]\n",
    "\n",
    "# 훈련된 network 세팅\n",
    "protoFile = \"pose_deploy.prototxt\"\n",
    "weightsFile = \"pose_iter_584000.caffemodel\"\n",
    "net = cv2.dnn.readNetFromCaffe(protoFile, weightsFile)\n",
    "\n",
    "# 테스트 이미지 읽기\n",
    "image = cv2.imread(\"test1.png\")\n",
    "\n",
    "# 테스트 이미지에서 height, width, color 정보 파악\n",
    "imageHeight, imageWidth, imageColor = image.shape\n",
    "\n",
    "# 테스트 이미지를 network에 넣기 위해 전처리\n",
    "inpBlob = cv2.dnn.blobFromImage(image, 1.0 / 255, (imageWidth, imageHeight), (0, 0, 0), swapRB=False, crop=False)\n",
    "\n",
    "# 테스트 이미지를 network에 넣어줌\n",
    "net.setInput(inpBlob)\n",
    "\n",
    "# 결과 받아오기\n",
    "output = net.forward()\n",
    "\n",
    "H = output.shape[2]\n",
    "W = output.shape[3]\n",
    "\n",
    "# 검출된 관절 포인트를 테스트 이미지에 그려주기\n",
    "points = []\n",
    "for i in range(0, 15):\n",
    "    # 해당 관절 신뢰도 얻기\n",
    "    probMap = output[0, i, :, :]\n",
    "\n",
    "    # global 최대값 찾기\n",
    "    minVal, prob, minLoc, point = cv2.minMaxLoc(probMap)\n",
    "\n",
    "    # 원래 이미지에 맞게 점 위치 변경\n",
    "    x = (imageWidth * point[0]) / W\n",
    "    y = (imageHeight * point[1]) / H\n",
    "\n",
    "    # 키포인트 검출한 결과가 0.1보다 크면(검출한곳이 위 BODY_PARTS랑 맞는 부위면) points에 추가, 검출했는데 부위가 없으면 None으로\n",
    "    if prob > 0.1:\n",
    "        cv2.circle(image, (int(x), int(y)), 3, (0, 255, 255), thickness=-1,\n",
    "                   lineType=cv2.FILLED)  # circle(그릴곳, 원의 중심, 반지름, 색)\n",
    "        cv2.putText(image, \"{}\".format(i), (int(x), int(y)), cv2.FONT_HERSHEY_SIMPLEX, 0.5, (0, 0, 255), 1,\n",
    "                    lineType=cv2.LINE_AA)\n",
    "        points.append((int(x), int(y)))\n",
    "    else:\n",
    "        points.append(None)\n",
    "\n",
    "cv2.imshow(\"Output-Keypoints\", image)\n",
    "cv2.waitKey(0)\n",
    "\n",
    "# 관절들을 선으로 연결해주기\n",
    "for pair in POSE_PAIRS:\n",
    "    print(pair)\n",
    "    partA = pair[0]  # Head\n",
    "    partA = BODY_PARTS[partA]  # 0\n",
    "    partB = pair[1]  # Neck\n",
    "    partB = BODY_PARTS[partB]  # 1\n",
    "    print(points[partA])\n",
    "    print(points[partB])\n",
    "    # print(partA,\" 와 \", partB, \" 연결\\n\")\n",
    "    if points[partA] and points[partB]:\n",
    "        cv2.line(image, points[partA], points[partB], (255, 0, 0), 2)\n",
    "\n",
    "cv2.imshow(\"Output-Keypoints-with-Lines\", image)\n",
    "cv2.waitKey(0)\n",
    "cv2.destroyAllWindows()"
   ]
  },
  {
   "cell_type": "code",
   "execution_count": null,
   "outputs": [],
   "source": [],
   "metadata": {
    "collapsed": false
   }
  }
 ],
 "metadata": {
  "kernelspec": {
   "display_name": "Python 3",
   "language": "python",
   "name": "python3"
  },
  "language_info": {
   "codemirror_mode": {
    "name": "ipython",
    "version": 2
   },
   "file_extension": ".py",
   "mimetype": "text/x-python",
   "name": "python",
   "nbconvert_exporter": "python",
   "pygments_lexer": "ipython2",
   "version": "2.7.6"
  }
 },
 "nbformat": 4,
 "nbformat_minor": 0
}
